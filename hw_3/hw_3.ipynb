{
 "cells": [
  {
   "cell_type": "markdown",
   "metadata": {},
   "source": [
    "# Interaction with the World Homework (#3)\n",
    "Python Computing for Data Science (c) J Bloom, UC Berkeley 2018\n",
    "\n",
    "Due Tuesday 2pm, Feb 20, 2018"
   ]
  },
  {
   "cell_type": "markdown",
   "metadata": {},
   "source": [
    "# 1) Monty: The Python Siri\n",
    "\n",
    "Let's make a Siri-like program (call it Monty!) with the following properties:\n",
    "   - record your voice command\n",
    "   - use a webservice to parse that sound file into text\n",
    "   - based on what the text, take three different types of actions:\n",
    "       - send an email to yourself\n",
    "       - do some math\n",
    "       - tell a joke\n",
    "\n",
    "So for example, if you say \"Monty: email me with subject hello and body goodbye\", it will email you with the appropriate subject and body. If you say \"Monty: tell me a joke\" then it will go to the web and find a joke and print it for you. If you say, \"Monty: calculate two times three\" it should response with printing the number 6.\n",
    "\n",
    "Hint: you can use speed-to-text apps like Houndify (or, e.g., Google Speech https://cloud.google.com/speech/) to return the text (but not do the actions). You'll need to sign up for a free API and then follow documentation instructions for using the service within Python. "
   ]
  },
  {
   "cell_type": "code",
   "execution_count": 78,
   "metadata": {},
   "outputs": [],
   "source": [
    "# imports\n",
    "import pyaudio\n",
    "import wave\n",
    "import smtplib\n",
    "from email.mime.multipart import MIMEMultipart\n",
    "from email.mime.base import MIMEBase\n",
    "from email.mime.text import MIMEText\n",
    "from email import encoders\n",
    "import json\n",
    "from urllib.request import urlopen\n",
    "from word2number import w2n\n",
    "import houndify\n",
    "\n",
    "# import houndify and email params\n",
    "# these files contain user specific information and thus need to be created by each use\n",
    "import houndify_login as lg\n",
    "import mail_params as mp"
   ]
  },
  {
   "cell_type": "code",
   "execution_count": 79,
   "metadata": {
    "collapsed": true
   },
   "outputs": [],
   "source": [
    "# create function to do record audio command and save as a wav file in format req'd for houndify\n",
    "def rec_audio(fl_name):\n",
    "    \n",
    "    # initialize params for pyaudio\n",
    "    chunk = 1024\n",
    "    FORMAT = pyaudio.paInt16\n",
    "    CHANNELS = 1\n",
    "    RATE = 16000\n",
    "    \n",
    "    # set up recording\n",
    "    print('Welcome to Monty!\\n')\n",
    "    print('Please give me a request (type \"ii\" when done)\\n')\n",
    "    p = pyaudio.PyAudio()\n",
    "    stream = p.open(format = FORMAT,\n",
    "        channels = CHANNELS,\n",
    "        rate = RATE,\n",
    "        input = True,\n",
    "        frames_per_buffer = chunk)\n",
    "    all = []\n",
    "    \n",
    "    # record until keyboard is used to stop recording\n",
    "    try:\n",
    "        while True:\n",
    "            data = stream.read(chunk)\n",
    "            all.append(data)\n",
    "    except KeyboardInterrupt:\n",
    "        pass\n",
    "    \n",
    "    # close down recording\n",
    "    stream.close()\n",
    "    p.terminate()\n",
    "    \n",
    "    # write to .wav file\n",
    "    data = b\"\".join(all)\n",
    "    wf = wave.open(fl_name, \"wb\")\n",
    "    wf.setnchannels(CHANNELS)\n",
    "    wf.setsampwidth(p.get_sample_size(FORMAT))\n",
    "    wf.setframerate(RATE)\n",
    "    wf.writeframes(data)\n",
    "    wf.close()"
   ]
  },
  {
   "cell_type": "code",
   "execution_count": 80,
   "metadata": {
    "collapsed": true
   },
   "outputs": [],
   "source": [
    "# given a wav audio file, use houndify to return a list of all words spoken (in order) from audio file\n",
    "def audio_to_text(wav_fl, ID, KEY):\n",
    "    \n",
    "    # open audio file\n",
    "    audio = wave.open(wav_fl)\n",
    "    \n",
    "    # make sure audio file is in the correct format\n",
    "    if audio.getsampwidth() != 2:\n",
    "        print(\"wrong sample width (must be 16-bit)\")\n",
    "    if audio.getframerate() != 8000 and audio.getframerate() != 16000:\n",
    "        print(\"unsupported sampling frequency (must be either 8 or 16 khz)\")\n",
    "    if audio.getnchannels() != 1:\n",
    "        print(\"must be single channel (mono)\")\n",
    "\n",
    "    # connect to houndify and use it to perform audio to text conversion\n",
    "    client = houndify.StreamingHoundClient(ID, KEY, \"test_user\")\n",
    "    client.setSampleRate(audio.getframerate())\n",
    "    client.start()\n",
    "    while True:\n",
    "        samples = audio.readframes(1024)\n",
    "        if len(samples) == 0: break\n",
    "        if client.fill(samples): break\n",
    "    result = client.finish()\n",
    "    \n",
    "    # return a list of all words in audio file (in order)\n",
    "    return result['AllResults'][0]['RawTranscription'].split(' ')"
   ]
  },
  {
   "cell_type": "code",
   "execution_count": 81,
   "metadata": {
    "collapsed": true
   },
   "outputs": [],
   "source": [
    "# function to take a raw request (from audio_to_text) and extract subject and body\n",
    "def proc_for_email(request):\n",
    "    \n",
    "    # the subject of the email will be all the words in the list after 'subject' and before the 'and' before 'body' \n",
    "    subj = request[request.index('subject')+1:request.index('body')-1]\n",
    "    \n",
    "    # body of the email will be all the words after 'body'\n",
    "    body = request[request.index('body')+1:]\n",
    "    \n",
    "    # return the subject and body of the message by joining each list subset into a string\n",
    "    return ' '.join(subj), ' '.join(body)"
   ]
  },
  {
   "cell_type": "code",
   "execution_count": 9,
   "metadata": {
    "collapsed": true
   },
   "outputs": [],
   "source": [
    "# given sending address + password, to address, subject, and body, send email\n",
    "# NB: this implementation requires one to set their Gmail account to accept \"less secure apps\"\n",
    "#    https://myaccount.google.com/u/4/lesssecureapps\n",
    "def send_email(sender, pwd, to, subject, body):\n",
    "    \n",
    "    # setup message attributes\n",
    "    msg = MIMEMultipart()\n",
    "    msg[\"From\"] = sender\n",
    "    msg[\"To\"] = to # one sender only\n",
    "    #msg[\"Date\"] = formatdate(localtime=True)\n",
    "    msg[\"Subject\"] = subject\n",
    "    msg.attach(MIMEText(body))\n",
    "    \n",
    "    # send message\n",
    "    mailServer = smtplib.SMTP(\"smtp.gmail.com\", 587)\n",
    "    mailServer.ehlo()\n",
    "    mailServer.starttls()\n",
    "    mailServer.login(sender, pwd)\n",
    "    mailServer.sendmail(sender, to, msg.as_string())\n",
    "    mailServer.close()"
   ]
  },
  {
   "cell_type": "code",
   "execution_count": 82,
   "metadata": {
    "collapsed": true
   },
   "outputs": [],
   "source": [
    "# obtain a random joke from the internet chuck norris database\n",
    "def pull_joke(url = 'http://api.icndb.com/jokes/random'):\n",
    "    \n",
    "    # query the internet database and store result as json\n",
    "    result = json.loads(urlopen(url).read().decode(\"UTF-8\"))\n",
    "    \n",
    "    # print the joke\n",
    "    print(result['value']['joke'])"
   ]
  },
  {
   "cell_type": "code",
   "execution_count": 83,
   "metadata": {},
   "outputs": [],
   "source": [
    "# take words containing a mathematical expression and evaluate the expression\n",
    "def math_from_words(request):\n",
    "    \n",
    "    # while I could imagine writing a function with a large dictionary to parse numbers as words into integers\n",
    "    #    or floats, this would be somewhat cumbersome - especially when there is a nice python package that does it.\n",
    "    #    I will use the \n",
    "    \n",
    "    # create dictionary of mathematical symbols to interpret\n",
    "    symbols = {'plus': '+', 'minus': '-', 'times': '*', 'divided': '/'}\n",
    "    \n",
    "    # create a new list to hold items from the request that are part of the mathematical expression\n",
    "    expr_list = []\n",
    "    \n",
    "    # create an empty string to hold sequential words that correspond to one number\n",
    "    expr = ''\n",
    "    \n",
    "    # iterate through the request and extract items that are part of the expression\n",
    "    for idx, word in enumerate(request):\n",
    "        \n",
    "        # check to see if the word is a symbol, if so add it\n",
    "        if word in symbols.keys():\n",
    "            \n",
    "            # if the word is symbol write the current number expression to the list and re-initialize an empty one\n",
    "            # the rational here is that symbols separate sequences of words that represent a single number\n",
    "            expr_list.append(expr)\n",
    "            expr = ''\n",
    "            \n",
    "            # if 'divided' is the word, require that it be followed by 'by' to count as symbol\n",
    "            if word != 'divided':\n",
    "                expr_list.append(symbols[word])\n",
    "            elif word == 'divided' and request[idx +1] == 'by':\n",
    "                expr_list.append(symbols[word])\n",
    "            \n",
    "        # if the word isn't a symbol, check to see if it is the number 4, but spelled as 'for' - if so include it\n",
    "        elif word == 'for':\n",
    "            expr += ' four'\n",
    "            \n",
    "        # if the word is 'point', set it up to be interpreted as a decimal point\n",
    "        elif word == 'point':\n",
    "            expr += ' point'\n",
    "        \n",
    "        # if the word doesn't meet the above conditions it should either be a number or an irrelevant word\n",
    "        #     it will be an irrelevant word if the function throws a value error - catch and handle this\n",
    "        #     if there is not a value error, then it is a number - include it\n",
    "        else:\n",
    "            try:\n",
    "                tmp = str(w2n.word_to_num(word))\n",
    "                expr += word\n",
    "            except ValueError:\n",
    "                pass\n",
    "    \n",
    "    # add the last sequence of numbers to the expression list - the conditions make it possible for there to be\n",
    "    #     a non-empty sequence stored when iteration ends\n",
    "    expr_list.append(expr)\n",
    "    \n",
    "    # initialize an expression to evaluate\n",
    "    expr_to_eval = ''\n",
    "    \n",
    "    # iterate through the list holding the mathematical expression\n",
    "    for item in expr_list:\n",
    "        \n",
    "        # if the current item is a symbol, add it to the expression to evaluate\n",
    "        if item in symbols.values():\n",
    "            expr_to_eval += item\n",
    "        \n",
    "        # otherwise the current item is a sequence corresponding to one number - convert this from words to a number\n",
    "        else:\n",
    "            expr_to_eval += str(w2n.word_to_num(item))\n",
    "    \n",
    "    # evaluate the mathematical expression and print the result\n",
    "    print(eval(expr_to_eval))"
   ]
  },
  {
   "cell_type": "code",
   "execution_count": 84,
   "metadata": {
    "collapsed": true
   },
   "outputs": [],
   "source": [
    "# function that completely controls and runs monty\n",
    "def monty(ID, KEY, fl_name = 'tmp_audio/tmp.wav', print_req = False):\n",
    "    \n",
    "    # record audio and store it as a wav file\n",
    "    rec_audio(fl_name)\n",
    "    \n",
    "    # get a list of words (in order) from the audio file\n",
    "    request = audio_to_text(fl_name, ID, KEY)\n",
    "    \n",
    "    # optionally print the text obtained from audio\n",
    "    if print_req:\n",
    "        print(request)\n",
    "    \n",
    "    # determine what to do\n",
    "    \n",
    "    # if no words were registered, let the user know\n",
    "    if len(request) == 1:\n",
    "        print(\"Sorry, I didn't get that. Please try again.\")\n",
    "    \n",
    "    # detect an email request by having the words 'email', 'subject', and 'body' all appear in request\n",
    "    elif set(('email','subject','body')).issubset(set(request)):\n",
    "        subject, body = proc_for_email(request)\n",
    "        send_email(mp.sender, mp.pwd, mp.sender, subject, body)\n",
    "        print('email sent!')\n",
    "        \n",
    "    # detect a joke request by having the words 'tell' and 'joke' in request and having request not be an email\n",
    "    elif set(('tell','joke')).issubset(set(request)):\n",
    "        pull_joke()\n",
    "        \n",
    "    # if it isn't an email or joke request, assume it is a math request\n",
    "    else:\n",
    "        math_from_words(request)"
   ]
  },
  {
   "cell_type": "code",
   "execution_count": 85,
   "metadata": {},
   "outputs": [
    {
     "name": "stdout",
     "output_type": "stream",
     "text": [
      "Welcome to Monty!\n",
      "\n",
      "Please give me a request (type \"ii\" when done)\n",
      "\n",
      "Sorry, I didn't get that. Please try again.\n"
     ]
    }
   ],
   "source": [
    "monty(lg.ID, lg.KEY)"
   ]
  },
  {
   "cell_type": "markdown",
   "metadata": {},
   "source": [
    "# 2) Write a program that identifies musical notes from sound (AIFF) files. \n",
    "\n",
    "  - Run it on the supplied sound files (12) and report your program’s results. \n",
    "  - Use the labeled sounds (4) to make sure it works correctly. The provided sound files contain 1-3 simultaneous notes from different organs.\n",
    "  - Save copies of any example plots to illustrate how your program works.\n",
    "  \n",
    "  https://piazza.com/berkeley/spring2018/ay250class13410/resources -> Homeworks -> hw3_sound_files.zip"
   ]
  },
  {
   "cell_type": "markdown",
   "metadata": {},
   "source": [
    "Hints: You’ll want to decompose the sound into a frequency power spectrum. Use a Fast Fourier Transform. Be care about “unpacking” the string hexcode into python data structures. The sound files use 32 bit data. Play around with what happens when you convert the string data to other integer sizes, or signed vs unsigned integers. Also, beware of harmonics."
   ]
  },
  {
   "cell_type": "code",
   "execution_count": null,
   "metadata": {
    "collapsed": true
   },
   "outputs": [],
   "source": []
  }
 ],
 "metadata": {
  "kernelspec": {
   "display_name": "Python 3",
   "language": "python",
   "name": "python3"
  },
  "language_info": {
   "codemirror_mode": {
    "name": "ipython",
    "version": 3
   },
   "file_extension": ".py",
   "mimetype": "text/x-python",
   "name": "python",
   "nbconvert_exporter": "python",
   "pygments_lexer": "ipython3",
   "version": "3.6.3"
  }
 },
 "nbformat": 4,
 "nbformat_minor": 1
}
