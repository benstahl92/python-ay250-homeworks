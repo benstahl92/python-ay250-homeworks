{
 "cells": [
  {
   "cell_type": "markdown",
   "metadata": {},
   "source": [
    "# Interaction with the World Homework (#3)\n",
    "Python Computing for Data Science (c) J Bloom, UC Berkeley 2018\n",
    "\n",
    "Due Tuesday 2pm, Feb 20, 2018"
   ]
  },
  {
   "cell_type": "markdown",
   "metadata": {},
   "source": [
    "# 1) Monty: The Python Siri\n",
    "\n",
    "Let's make a Siri-like program (call it Monty!) with the following properties:\n",
    "   - record your voice command\n",
    "   - use a webservice to parse that sound file into text\n",
    "   - based on what the text, take three different types of actions:\n",
    "       - send an email to yourself\n",
    "       - do some math\n",
    "       - tell a joke\n",
    "\n",
    "So for example, if you say \"Monty: email me with subject hello and body goodbye\", it will email you with the appropriate subject and body. If you say \"Monty: tell me a joke\" then it will go to the web and find a joke and print it for you. If you say, \"Monty: calculate two times three\" it should response with printing the number 6.\n",
    "\n",
    "Hint: you can use speed-to-text apps like Houndify (or, e.g., Google Speech https://cloud.google.com/speech/) to return the text (but not do the actions). You'll need to sign up for a free API and then follow documentation instructions for using the service within Python. "
   ]
  },
  {
   "cell_type": "code",
   "execution_count": 1,
   "metadata": {},
   "outputs": [],
   "source": [
    "import pyaudio\n",
    "import wave\n",
    "import houndify\n",
    "import houndify_login as lg"
   ]
  },
  {
   "cell_type": "code",
   "execution_count": 26,
   "metadata": {},
   "outputs": [],
   "source": [
    "# create function to do record audio command and save as a wav file in format req'd for houndify\n",
    "def rec_audio(fl_name, rec_time):\n",
    "    \n",
    "    # initialize params for pyaudio\n",
    "    chunk = 1024\n",
    "    FORMAT = pyaudio.paInt16\n",
    "    CHANNELS = 1\n",
    "    RATE = 16000\n",
    "    \n",
    "    # do the recording\n",
    "    print('Welcome to Monty!\\n')\n",
    "    print('Please give me a request')\n",
    "    print('* begin speaking')\n",
    "    p = pyaudio.PyAudio()\n",
    "    stream = p.open(format = FORMAT,\n",
    "        channels = CHANNELS,\n",
    "        rate = RATE,\n",
    "        input = True,\n",
    "        frames_per_buffer = chunk)\n",
    "    all = []\n",
    "    for i in range(0, int(RATE / chunk * rec_time)):\n",
    "        data = stream.read(chunk)\n",
    "        all.append(data)\n",
    "    print('* done recording')\n",
    "    stream.close()\n",
    "    p.terminate()\n",
    "    \n",
    "    # write to .wav file\n",
    "    data = b\"\".join(all)\n",
    "    wf = wave.open(fl_name, \"wb\")\n",
    "    wf.setnchannels(CHANNELS)\n",
    "    wf.setsampwidth(p.get_sample_size(FORMAT))\n",
    "    wf.setframerate(RATE)\n",
    "    wf.writeframes(data)\n",
    "    wf.close()"
   ]
  },
  {
   "cell_type": "code",
   "execution_count": 27,
   "metadata": {},
   "outputs": [],
   "source": [
    "# given a wav audio file, use houndify to return a list of all words spoken (in order) from audio file\n",
    "def audio_to_text(wav_fl, ID, KEY):\n",
    "    \n",
    "    # open audio file\n",
    "    audio = wave.open(wav_fl)\n",
    "    \n",
    "    # make sure audio file is in the correct format\n",
    "    if audio.getsampwidth() != 2:\n",
    "        print(\"wrong sample width (must be 16-bit)\")\n",
    "    if audio.getframerate() != 8000 and audio.getframerate() != 16000:\n",
    "        print(\"unsupported sampling frequency (must be either 8 or 16 khz)\")\n",
    "    if audio.getnchannels() != 1:\n",
    "        print(\"must be single channel (mono)\")\n",
    "\n",
    "    # connect to houndify and use it to perform audio to text conversion\n",
    "    client = houndify.StreamingHoundClient(ID, KEY, \"test_user\")\n",
    "    client.setSampleRate(audio.getframerate())\n",
    "    client.start()\n",
    "    while True:\n",
    "        samples = audio.readframes(1024)\n",
    "        if len(samples) == 0: break\n",
    "        if client.fill(samples): break\n",
    "    result = client.finish()\n",
    "    \n",
    "    # return a list of all words in audio file (in order)\n",
    "    return result['AllResults'][0]['RawTranscription'].split(' ')"
   ]
  },
  {
   "cell_type": "code",
   "execution_count": 28,
   "metadata": {},
   "outputs": [],
   "source": [
    "# function that completely controls and runs monty\n",
    "def monty(ID, KEY, fl_name = 'tmp_audio/tmp.wav', rec_time = 5):\n",
    "    \n",
    "    # record audio and store it as a wav file\n",
    "    rec_audio(fl_name, rec_time)\n",
    "    \n",
    "    # get a list of words (in order) from the audio file\n",
    "    request = audio_to_text(fl_name, ID, KEY)\n",
    "    \n",
    "    # determine what to do\n",
    "    \n",
    "    # detect an email request by having the words 'email', 'subject', and 'body' all appear in request\n",
    "    if set(('email','body','subject')).issubset(set(request)):\n",
    "        print('placeholder for email')\n",
    "        \n",
    "    # detect a joke request by having the words 'tell' and 'joke' in request and having request not be an email\n",
    "    elif set(('tell','joke')).issubset(set(request)):\n",
    "        print('placeholder for joke')\n",
    "        \n",
    "    # if it isn't an email or joke request, assume it is a math request\n",
    "    else:\n",
    "        print('placeholder for math')"
   ]
  },
  {
   "cell_type": "code",
   "execution_count": 30,
   "metadata": {},
   "outputs": [
    {
     "name": "stdout",
     "output_type": "stream",
     "text": [
      "Welcome to Monty!\n",
      "\n",
      "Please give me a request\n",
      "* begin speaking\n",
      "* done recording\n",
      "placeholder for email\n"
     ]
    }
   ],
   "source": [
    "monty(lg.ID, lg.KEY)"
   ]
  },
  {
   "cell_type": "code",
   "execution_count": null,
   "metadata": {},
   "outputs": [],
   "source": []
  },
  {
   "cell_type": "markdown",
   "metadata": {},
   "source": [
    "# 2) Write a program that identifies musical notes from sound (AIFF) files. \n",
    "\n",
    "  - Run it on the supplied sound files (12) and report your program’s results. \n",
    "  - Use the labeled sounds (4) to make sure it works correctly. The provided sound files contain 1-3 simultaneous notes from different organs.\n",
    "  - Save copies of any example plots to illustrate how your program works.\n",
    "  \n",
    "  https://piazza.com/berkeley/spring2018/ay250class13410/resources -> Homeworks -> hw3_sound_files.zip"
   ]
  },
  {
   "cell_type": "markdown",
   "metadata": {},
   "source": [
    "Hints: You’ll want to decompose the sound into a frequency power spectrum. Use a Fast Fourier Transform. Be care about “unpacking” the string hexcode into python data structures. The sound files use 32 bit data. Play around with what happens when you convert the string data to other integer sizes, or signed vs unsigned integers. Also, beware of harmonics."
   ]
  },
  {
   "cell_type": "code",
   "execution_count": null,
   "metadata": {
    "collapsed": true
   },
   "outputs": [],
   "source": []
  }
 ],
 "metadata": {
  "kernelspec": {
   "display_name": "Python 3",
   "language": "python",
   "name": "python3"
  },
  "language_info": {
   "codemirror_mode": {
    "name": "ipython",
    "version": 3
   },
   "file_extension": ".py",
   "mimetype": "text/x-python",
   "name": "python",
   "nbconvert_exporter": "python",
   "pygments_lexer": "ipython3",
   "version": "3.6.3"
  }
 },
 "nbformat": 4,
 "nbformat_minor": 1
}
