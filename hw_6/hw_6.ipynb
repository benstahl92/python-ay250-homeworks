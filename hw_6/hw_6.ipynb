{
 "cells": [
  {
   "cell_type": "markdown",
   "metadata": {},
   "source": [
    "Note: the data used in this project can be downloaded from: https://www.dropbox.com/s/cst9awcjpp08k33/50_categories.tar.gz"
   ]
  },
  {
   "cell_type": "code",
   "execution_count": null,
   "metadata": {},
   "outputs": [],
   "source": []
  },
  {
   "cell_type": "markdown",
   "metadata": {},
   "source": [
    "## Imports"
   ]
  },
  {
   "cell_type": "code",
   "execution_count": 155,
   "metadata": {},
   "outputs": [],
   "source": [
    "# array handling\n",
    "import numpy as np\n",
    "import pandas as pd\n",
    "\n",
    "# image manipulation\n",
    "from skimage.io import imread\n",
    "from skimage.color import rgb2grey\n",
    "from skimage import transform, feature\n",
    "\n",
    "# system interaction\n",
    "import os\n",
    "import sys\n",
    "import pickle as pkl\n",
    "\n",
    "# iteration tools\n",
    "from tqdm import tqdm\n",
    "from itertools import combinations\n",
    "\n",
    "# machine learning\n",
    "from sklearn.cluster import MiniBatchKMeans\n",
    "from sklearn.model_selection import train_test_split, GridSearchCV, StratifiedKFold\n",
    "from sklearn.preprocessing import StandardScaler\n",
    "from sklearn.dummy import DummyClassifier\n",
    "from sklearn.ensemble import RandomForestClassifier\n",
    "from sklearn.metrics import accuracy_score, precision_score, recall_score, zero_one_loss\n",
    "\n",
    "# plotting\n",
    "import matplotlib.pyplot as plt\n",
    "%matplotlib inline\n"
   ]
  },
  {
   "cell_type": "code",
   "execution_count": null,
   "metadata": {},
   "outputs": [],
   "source": []
  },
  {
   "cell_type": "markdown",
   "metadata": {},
   "source": [
    "## Global Variables"
   ]
  },
  {
   "cell_type": "code",
   "execution_count": 2,
   "metadata": {},
   "outputs": [],
   "source": [
    "base_path = '50_categories/'\n",
    "labels = np.array(sorted([dr for dr in os.listdir(base_path) if '.DS_Store' not in dr]))"
   ]
  },
  {
   "cell_type": "code",
   "execution_count": null,
   "metadata": {},
   "outputs": [],
   "source": []
  },
  {
   "cell_type": "markdown",
   "metadata": {},
   "source": [
    "## Explore Data"
   ]
  },
  {
   "cell_type": "code",
   "execution_count": 3,
   "metadata": {},
   "outputs": [
    {
     "name": "stdout",
     "output_type": "stream",
     "text": [
      "Processing label: airplanes\n",
      "Processing label: bat\n",
      "Processing label: bear\n",
      "Processing label: blimp\n",
      "Processing label: camel\n",
      "Processing label: comet\n",
      "Processing label: conch\n",
      "Processing label: cormorant\n",
      "Processing label: crab\n",
      "Processing label: dog\n",
      "Processing label: dolphin\n",
      "Processing label: duck\n",
      "Processing label: elephant\n",
      "Processing label: elk\n",
      "Processing label: frog\n",
      "Processing label: galaxy\n",
      "Processing label: giraffe\n",
      "Processing label: goat\n",
      "Processing label: goldfish\n",
      "Processing label: goose\n",
      "Processing label: gorilla\n",
      "Processing label: helicopter\n",
      "Processing label: horse\n",
      "Processing label: hot-air-balloon\n",
      "Processing label: hummingbird\n",
      "Processing label: iguana\n",
      "Processing label: kangaroo\n",
      "Processing label: killer-whale\n",
      "Processing label: leopards\n",
      "Processing label: llama\n",
      "Processing label: mars\n",
      "Processing label: mussels\n",
      "Processing label: octopus\n",
      "Processing label: ostrich\n",
      "Processing label: owl\n",
      "Processing label: penguin\n",
      "Processing label: porcupine\n",
      "Processing label: raccoon\n",
      "Processing label: saturn\n",
      "Processing label: skunk\n",
      "Processing label: snail\n",
      "Processing label: snake\n",
      "Processing label: speed-boat\n",
      "Processing label: starfish\n",
      "Processing label: swan\n",
      "Processing label: teddy-bear\n",
      "Processing label: toad\n",
      "Processing label: triceratops\n",
      "Processing label: unicorn\n",
      "Processing label: zebra\n"
     ]
    }
   ],
   "source": [
    "# find dimensions of all images\n",
    "im_dims = []\n",
    "for label in labels:\n",
    "    print('Processing label: {}'.format(label))\n",
    "    for fl in [fl for fl in os.listdir(base_path + label) if '.DS_Store' not in fl]:\n",
    "        im = imread(base_path + label + '/' + fl)\n",
    "        g = rgb2grey(im)\n",
    "        im_dims.append(g.shape)\n",
    "im_dims = np.array(im_dims)"
   ]
  },
  {
   "cell_type": "code",
   "execution_count": 4,
   "metadata": {},
   "outputs": [
    {
     "data": {
      "image/png": "[encoded data removed]",
      "text/plain": [
       "<matplotlib.figure.Figure at 0x1c1480fda0>"
      ]
     },
     "metadata": {},
     "output_type": "display_data"
    }
   ],
   "source": [
    "# visualize distribution of dimensions\n",
    "fig, ax = plt.subplots(1,2,figsize = (12,6))\n",
    "ax[0].hist(im_dims[:,0], histtype = 'step')\n",
    "ax[1].hist(im_dims[:,1], histtype = 'step')\n",
    "for a in ax:\n",
    "    a.set_ylabel('# of Images')\n",
    "    a.set_xlabel('# of Pixels')\n",
    "fig.tight_layout()"
   ]
  },
  {
   "cell_type": "markdown",
   "metadata": {},
   "source": [
    "Notice that the images are not uniform in size, and also that some are very large. Before doing anything, a sensible preprocessing step is make all images the same size (and smaller). For the purposes of this assignment, we will resize all images to a width of 450 pixels. In a future step we will deal with the fact that the heights will still vary after resizing. Lets write a function to automate the reading of images, conversion to greyscale, and rescaling to 450 pixels in width and then look at the data"
   ]
  },
  {
   "cell_type": "code",
   "execution_count": 42,
   "metadata": {},
   "outputs": [],
   "source": [
    "def read_grey_rescale(im_file, width = 450):\n",
    "        im = imread(im_file)\n",
    "        g = rgb2grey(im)\n",
    "        r_im = transform.rescale(g, width / g.shape[1], mode = 'constant')\n",
    "        return r_im"
   ]
  },
  {
   "cell_type": "code",
   "execution_count": 6,
   "metadata": {},
   "outputs": [
    {
     "name": "stdout",
     "output_type": "stream",
     "text": [
      "Processing label: airplanes\n",
      "Processing label: bat\n",
      "Processing label: bear\n",
      "Processing label: blimp\n",
      "Processing label: camel\n",
      "Processing label: comet\n",
      "Processing label: conch\n",
      "Processing label: cormorant\n",
      "Processing label: crab\n",
      "Processing label: dog\n",
      "Processing label: dolphin\n",
      "Processing label: duck\n",
      "Processing label: elephant\n",
      "Processing label: elk\n",
      "Processing label: frog\n",
      "Processing label: galaxy\n",
      "Processing label: giraffe\n",
      "Processing label: goat\n",
      "Processing label: goldfish\n",
      "Processing label: goose\n",
      "Processing label: gorilla\n",
      "Processing label: helicopter\n",
      "Processing label: horse\n",
      "Processing label: hot-air-balloon\n",
      "Processing label: hummingbird\n",
      "Processing label: iguana\n",
      "Processing label: kangaroo\n",
      "Processing label: killer-whale\n",
      "Processing label: leopards\n",
      "Processing label: llama\n",
      "Processing label: mars\n",
      "Processing label: mussels\n",
      "Processing label: octopus\n",
      "Processing label: ostrich\n",
      "Processing label: owl\n",
      "Processing label: penguin\n",
      "Processing label: porcupine\n",
      "Processing label: raccoon\n",
      "Processing label: saturn\n",
      "Processing label: skunk\n",
      "Processing label: snail\n",
      "Processing label: snake\n",
      "Processing label: speed-boat\n",
      "Processing label: starfish\n",
      "Processing label: swan\n",
      "Processing label: teddy-bear\n",
      "Processing label: toad\n",
      "Processing label: triceratops\n",
      "Processing label: unicorn\n",
      "Processing label: zebra\n"
     ]
    }
   ],
   "source": [
    "# find dimensions of all images after rescaling\n",
    "im_dims = []\n",
    "for label in labels:\n",
    "    print('Processing label: {}'.format(label))\n",
    "    for fl in [fl for fl in os.listdir(base_path + label) if '.DS_Store' not in fl]:\n",
    "        g = read_grey_rescale(base_path + label + '/' + fl)\n",
    "        im_dims.append(g.shape)\n",
    "im_dims = np.array(im_dims)"
   ]
  },
  {
   "cell_type": "code",
   "execution_count": 7,
   "metadata": {},
   "outputs": [
    {
     "data": {
      "image/png": "[encoded data removed]",
      "text/plain": [
       "<matplotlib.figure.Figure at 0x1055e3f98>"
      ]
     },
     "metadata": {},
     "output_type": "display_data"
    }
   ],
   "source": [
    "# visualize distribution of dimensions\n",
    "fig, ax = plt.subplots(1,2,figsize = (12,6))\n",
    "ax[0].hist(im_dims[:,0], histtype = 'step')\n",
    "ax[1].hist(im_dims[:,1], histtype = 'step')\n",
    "for a in ax:\n",
    "    a.set_ylabel('# of Images')\n",
    "    a.set_xlabel('# of Pixels')\n",
    "fig.tight_layout()"
   ]
  },
  {
   "cell_type": "markdown",
   "metadata": {},
   "source": [
    "We will now deal with the fact that the heights are not identical after scaling all images to the same width. We see from the histogram that majority of images have a height (after rescaling) of around 350 pixels. Our strategy will be to normalize the heights of all images to 400 pixels (to keep a little extra). For images with smaller heights, we will evenly pad above and below with zeros until we reach the appropriate height, and for images with larger heights we will remove an even amount of rows above and below until we reach the appropriate height. Lets write a function to do this."
   ]
  },
  {
   "cell_type": "code",
   "execution_count": 21,
   "metadata": {},
   "outputs": [],
   "source": [
    "def trim_pad_height(im_arr, height = 400):\n",
    "    # create array to hold final image\n",
    "    new_im = np.zeros((height, im_arr.shape[1]))\n",
    "    \n",
    "    # find difference in heights\n",
    "    h_diff = height - im_arr.shape[0]\n",
    "    if h_diff % 2 != 0:\n",
    "        im_arr = im_arr[:-1, :] # cut bottom row of pixels to make the difference even\n",
    "        h_diff += 1\n",
    "    \n",
    "    # now handle the three possibilities for how the heights compare:\n",
    "    if h_diff == 0:\n",
    "        new_im = im_arr\n",
    "    elif h_diff > 0:\n",
    "        # calculate top and bottom indices\n",
    "        bottom = int(np.abs((h_diff / 2)))\n",
    "        top = new_im.shape[0] -  int(np.abs((h_diff / 2)))\n",
    "        new_im[bottom:top, :] = im_arr\n",
    "    elif h_diff < 0:\n",
    "        # calculate top and bottom indices\n",
    "        bottom = int(np.abs(h_diff / 2)) \n",
    "        top = im_arr.shape[0] - int(np.abs(h_diff / 2)) \n",
    "        new_im = im_arr[bottom:top, :]\n",
    "    \n",
    "    return new_im\n",
    "    "
   ]
  },
  {
   "cell_type": "code",
   "execution_count": 23,
   "metadata": {},
   "outputs": [
    {
     "name": "stdout",
     "output_type": "stream",
     "text": [
      "Processing label: airplanes\n",
      "Processing label: bat\n",
      "Processing label: bear\n",
      "Processing label: blimp\n",
      "Processing label: camel\n",
      "Processing label: comet\n",
      "Processing label: conch\n",
      "Processing label: cormorant\n",
      "Processing label: crab\n",
      "Processing label: dog\n",
      "Processing label: dolphin\n",
      "Processing label: duck\n",
      "Processing label: elephant\n",
      "Processing label: elk\n",
      "Processing label: frog\n",
      "Processing label: galaxy\n",
      "Processing label: giraffe\n",
      "Processing label: goat\n",
      "Processing label: goldfish\n",
      "Processing label: goose\n",
      "Processing label: gorilla\n",
      "Processing label: helicopter\n",
      "Processing label: horse\n",
      "Processing label: hot-air-balloon\n",
      "Processing label: hummingbird\n",
      "Processing label: iguana\n",
      "Processing label: kangaroo\n",
      "Processing label: killer-whale\n",
      "Processing label: leopards\n",
      "Processing label: llama\n",
      "Processing label: mars\n",
      "Processing label: mussels\n",
      "Processing label: octopus\n",
      "Processing label: ostrich\n",
      "Processing label: owl\n",
      "Processing label: penguin\n",
      "Processing label: porcupine\n",
      "Processing label: raccoon\n",
      "Processing label: saturn\n",
      "Processing label: skunk\n",
      "Processing label: snail\n",
      "Processing label: snake\n",
      "Processing label: speed-boat\n",
      "Processing label: starfish\n",
      "Processing label: swan\n",
      "Processing label: teddy-bear\n",
      "Processing label: toad\n",
      "Processing label: triceratops\n",
      "Processing label: unicorn\n",
      "Processing label: zebra\n"
     ]
    }
   ],
   "source": [
    "# one more pass through the images to ensure the rescaling methodology works as expected\n",
    "im_dims = []\n",
    "for label in labels:\n",
    "    print('Processing label: {}'.format(label))\n",
    "    for fl in [fl for fl in os.listdir(base_path + label) if '.DS_Store' not in fl]:\n",
    "        g = read_grey_rescale(base_path + label + '/' + fl)\n",
    "        f = trim_pad_height(g)\n",
    "        im_dims.append(f.shape)\n",
    "im_dims = np.array(im_dims)"
   ]
  },
  {
   "cell_type": "code",
   "execution_count": 24,
   "metadata": {},
   "outputs": [
    {
     "data": {
      "image/png": "[encoded data removed]",
      "text/plain": [
       "<matplotlib.figure.Figure at 0x1c181c4400>"
      ]
     },
     "metadata": {},
     "output_type": "display_data"
    }
   ],
   "source": [
    "# visualize distribution of dimensions\n",
    "fig, ax = plt.subplots(1,2,figsize = (12,6))\n",
    "ax[0].hist(im_dims[:,0], histtype = 'step')\n",
    "ax[1].hist(im_dims[:,1], histtype = 'step')\n",
    "for a in ax:\n",
    "    a.set_ylabel('# of Images')\n",
    "    a.set_xlabel('# of Pixels')\n",
    "fig.tight_layout()"
   ]
  },
  {
   "cell_type": "markdown",
   "metadata": {},
   "source": [
    "This had the expected result, we move on to feature extraction"
   ]
  },
  {
   "cell_type": "code",
   "execution_count": null,
   "metadata": {},
   "outputs": [],
   "source": []
  },
  {
   "cell_type": "markdown",
   "metadata": {},
   "source": [
    "## Compute Features from Data"
   ]
  },
  {
   "cell_type": "code",
   "execution_count": 156,
   "metadata": {},
   "outputs": [],
   "source": [
    "# this function will extract \"dumb\" features that have to do with colors, etc. \n",
    "# the features extracted here will inherently be independent of the size of the image array, so we won't worry about resizing for extracting these features\n",
    "def dumb_feature_extract(img_file):\n",
    "    \n",
    "    # read image and get greyscale as well\n",
    "    im_arr = imread(img_file)\n",
    "    gi = rgb2grey(im_arr)\n",
    "    \n",
    "    # check if image has only one color channel and if so stack the image three times to ensure that there are three\n",
    "    # (unfortunately) identical color channels\n",
    "    if len(im_arr.shape) == 2:\n",
    "        im_arr = np.dstack((im_arr, im_arr, im_arr))\n",
    "    \n",
    "    ## instatiate list (later to convert to array) to hold features\n",
    "    features = []\n",
    "    \n",
    "    # calculate the mean in each color\n",
    "    color_means = im_arr.mean(axis=1).mean(axis=0)\n",
    "    \n",
    "    # use the ratio of maximum value in each color to the mean of each color\n",
    "    color_max_div_mean = im_arr.max(axis=1).max(axis=0) / color_means\n",
    "    features += list(color_max_div_mean)\n",
    "     \n",
    "    # use the ratio of standard deviations in each color to mean in each color as another set of features\n",
    "    color_std_div_mean = im_arr.std(axis=1).mean(axis=0) / color_means\n",
    "    features += list(color_std_div_mean)\n",
    "    \n",
    "    # use ratios of means, and correlation coefficients between flattened color arrays as additional features\n",
    "    mean_ratios = []\n",
    "    corr_coefs = []\n",
    "    for idx_pair in combinations(range(3), 2):\n",
    "        mean_ratios.append(color_means[idx_pair[0]] / color_means[idx_pair[1]])\n",
    "        corr_coefs.append(np.corrcoef(im_arr[:,:,idx_pair[0]].flatten(), im_arr[:,:,idx_pair[1]].flatten())[0,1])\n",
    "    features += mean_ratios + corr_coefs\n",
    "    \n",
    "    return np.array(features)"
   ]
  },
  {
   "cell_type": "code",
   "execution_count": 35,
   "metadata": {},
   "outputs": [],
   "source": [
    "# get a sense of the time cost of dumb feature extraction"
   ]
  },
  {
   "cell_type": "code",
   "execution_count": 36,
   "metadata": {},
   "outputs": [
    {
     "name": "stdout",
     "output_type": "stream",
     "text": [
      "11 ms ± 581 µs per loop (mean ± std. dev. of 7 runs, 100 loops each)\n"
     ]
    }
   ],
   "source": [
    "%%timeit\n",
    "dumb_feature_extract('50_categories/bat/bat_0060.jpg')"
   ]
  },
  {
   "cell_type": "code",
   "execution_count": null,
   "metadata": {},
   "outputs": [],
   "source": []
  },
  {
   "cell_type": "code",
   "execution_count": 175,
   "metadata": {},
   "outputs": [],
   "source": [
    "# more robust feature extraction using DAISY (similar to SIFT) approach\n",
    "# inspiration for what I do here comes from: https://github.com/flytxtds/scene-recognition/blob/master/scene_recognition_local_global_approach.ipynb\n",
    "\n",
    "# basic idea:\n",
    "#    use DAISY to extract features from each image\n",
    "#    use a clustering algorithm to map the extracted features from each image into features that are common between all images and (hopefully) describe them - \"bag of visual words\" concept"
   ]
  },
  {
   "cell_type": "code",
   "execution_count": 56,
   "metadata": {},
   "outputs": [],
   "source": [
    "# get a sense of the time cost of extracting DAISY features - since need to go through around 4000 images, I am willing to spend at most about 1 second per image (for a little over an hour of computation time)\n",
    "# note that here we will use resized images"
   ]
  },
  {
   "cell_type": "code",
   "execution_count": 86,
   "metadata": {},
   "outputs": [
    {
     "name": "stdout",
     "output_type": "stream",
     "text": [
      "612 ms ± 37.4 ms per loop (mean ± std. dev. of 7 runs, 1 loop each)\n"
     ]
    }
   ],
   "source": [
    "%%timeit\n",
    "g = read_grey_rescale('50_categories/bat/bat_0060.jpg')\n",
    "f = trim_pad_height(g)\n",
    "descs = feature.daisy(f)\n",
    "descs_num = descs.shape[0] * descs.shape[1]\n",
    "daisy_descriptors = descs.reshape(descs_num,descs.shape[2])"
   ]
  },
  {
   "cell_type": "code",
   "execution_count": 87,
   "metadata": {},
   "outputs": [
    {
     "data": {
      "text/plain": [
       "312.480064"
      ]
     },
     "execution_count": 87,
     "metadata": {},
     "output_type": "execute_result"
    }
   ],
   "source": [
    "# another constraint here is how much RAM is on my laptop, I will need to store a huge list of around 4000 * len(daisy_descriptors). Lets try to estimate this\n",
    "g = read_grey_rescale('50_categories/bat/bat_0060.jpg')\n",
    "f = trim_pad_height(g)\n",
    "descs = feature.daisy(f)\n",
    "descs_num = descs.shape[0] * descs.shape[1]\n",
    "daisy_descriptors = descs.reshape(descs_num,descs.shape[2])\n",
    "sys.getsizeof(list(daisy_descriptors) * 4000) / 1e6 # show in megabytes\n",
    "\n",
    "# of course the size will be larger due to other overheads, but this looks feasible at the moment."
   ]
  },
  {
   "cell_type": "code",
   "execution_count": 88,
   "metadata": {},
   "outputs": [
    {
     "name": "stdout",
     "output_type": "stream",
     "text": [
      "(9765, 200)\n"
     ]
    }
   ],
   "source": [
    "print(daisy_descriptors.shape) # default parameters"
   ]
  },
  {
   "cell_type": "code",
   "execution_count": 89,
   "metadata": {},
   "outputs": [
    {
     "name": "stdout",
     "output_type": "stream",
     "text": [
      "(1400, 114)\n"
     ]
    }
   ],
   "source": [
    "# note: the above very much underestimates the demands of running this (my swap memory gets SATURATED), so I'm forced to change the parameters of daisy to make things more manageable\n",
    "descs = feature.daisy(f, step = 10, radius = 25, histograms=6, orientations=6)\n",
    "descs_num = descs.shape[0] * descs.shape[1]\n",
    "daisy_descriptors = descs.reshape(descs_num,descs.shape[2])\n",
    "print(daisy_descriptors.shape)\n",
    "# lets see if these parameters make the problem doable on my laptop.."
   ]
  },
  {
   "cell_type": "code",
   "execution_count": null,
   "metadata": {},
   "outputs": [],
   "source": []
  },
  {
   "cell_type": "code",
   "execution_count": 91,
   "metadata": {},
   "outputs": [
    {
     "name": "stderr",
     "output_type": "stream",
     "text": [
      "  0%|          | 0/533 [00:00<?, ?it/s]"
     ]
    },
    {
     "name": "stdout",
     "output_type": "stream",
     "text": [
      "Processing label: airplanes\n"
     ]
    },
    {
     "name": "stderr",
     "output_type": "stream",
     "text": [
      "100%|██████████| 533/533 [04:01<00:00,  2.21it/s]\n",
      "  0%|          | 0/71 [00:00<?, ?it/s]"
     ]
    },
    {
     "name": "stdout",
     "output_type": "stream",
     "text": [
      "Processing label: bat\n"
     ]
    },
    {
     "name": "stderr",
     "output_type": "stream",
     "text": [
      "100%|██████████| 71/71 [00:34<00:00,  2.08it/s]\n",
      "  0%|          | 0/68 [00:00<?, ?it/s]"
     ]
    },
    {
     "name": "stdout",
     "output_type": "stream",
     "text": [
      "Processing label: bear\n"
     ]
    },
    {
     "name": "stderr",
     "output_type": "stream",
     "text": [
      "100%|██████████| 68/68 [00:33<00:00,  2.03it/s]\n",
      "  0%|          | 0/57 [00:00<?, ?it/s]"
     ]
    },
    {
     "name": "stdout",
     "output_type": "stream",
     "text": [
      "Processing label: blimp\n"
     ]
    },
    {
     "name": "stderr",
     "output_type": "stream",
     "text": [
      "100%|██████████| 57/57 [00:26<00:00,  2.15it/s]\n",
      "  0%|          | 0/73 [00:00<?, ?it/s]"
     ]
    },
    {
     "name": "stdout",
     "output_type": "stream",
     "text": [
      "Processing label: camel\n"
     ]
    },
    {
     "name": "stderr",
     "output_type": "stream",
     "text": [
      "100%|██████████| 73/73 [00:36<00:00,  1.99it/s]\n",
      "  0%|          | 0/81 [00:00<?, ?it/s]"
     ]
    },
    {
     "name": "stdout",
     "output_type": "stream",
     "text": [
      "Processing label: comet\n"
     ]
    },
    {
     "name": "stderr",
     "output_type": "stream",
     "text": [
      "100%|██████████| 81/81 [00:38<00:00,  2.12it/s]\n",
      "  0%|          | 0/69 [00:00<?, ?it/s]"
     ]
    },
    {
     "name": "stdout",
     "output_type": "stream",
     "text": [
      "Processing label: conch\n"
     ]
    },
    {
     "name": "stderr",
     "output_type": "stream",
     "text": [
      "100%|██████████| 69/69 [00:32<00:00,  2.12it/s]\n",
      "  0%|          | 0/71 [00:00<?, ?it/s]"
     ]
    },
    {
     "name": "stdout",
     "output_type": "stream",
     "text": [
      "Processing label: cormorant\n"
     ]
    },
    {
     "name": "stderr",
     "output_type": "stream",
     "text": [
      "100%|██████████| 71/71 [00:34<00:00,  2.06it/s]\n",
      "  0%|          | 0/57 [00:00<?, ?it/s]"
     ]
    },
    {
     "name": "stdout",
     "output_type": "stream",
     "text": [
      "Processing label: crab\n"
     ]
    },
    {
     "name": "stderr",
     "output_type": "stream",
     "text": [
      "100%|██████████| 57/57 [00:26<00:00,  2.16it/s]\n",
      "  0%|          | 0/68 [00:00<?, ?it/s]"
     ]
    },
    {
     "name": "stdout",
     "output_type": "stream",
     "text": [
      "Processing label: dog\n"
     ]
    },
    {
     "name": "stderr",
     "output_type": "stream",
     "text": [
      "100%|██████████| 68/68 [00:32<00:00,  2.12it/s]\n",
      "  0%|          | 0/71 [00:00<?, ?it/s]"
     ]
    },
    {
     "name": "stdout",
     "output_type": "stream",
     "text": [
      "Processing label: dolphin\n"
     ]
    },
    {
     "name": "stderr",
     "output_type": "stream",
     "text": [
      "100%|██████████| 71/71 [00:33<00:00,  2.13it/s]\n",
      "  0%|          | 0/58 [00:00<?, ?it/s]"
     ]
    },
    {
     "name": "stdout",
     "output_type": "stream",
     "text": [
      "Processing label: duck\n"
     ]
    },
    {
     "name": "stderr",
     "output_type": "stream",
     "text": [
      "100%|██████████| 58/58 [00:27<00:00,  2.08it/s]\n",
      "  0%|          | 0/87 [00:00<?, ?it/s]"
     ]
    },
    {
     "name": "stdout",
     "output_type": "stream",
     "text": [
      "Processing label: elephant\n"
     ]
    },
    {
     "name": "stderr",
     "output_type": "stream",
     "text": [
      "100%|██████████| 87/87 [00:41<00:00,  2.09it/s]\n",
      "  0%|          | 0/67 [00:00<?, ?it/s]"
     ]
    },
    {
     "name": "stdout",
     "output_type": "stream",
     "text": [
      "Processing label: elk\n"
     ]
    },
    {
     "name": "stderr",
     "output_type": "stream",
     "text": [
      "100%|██████████| 67/67 [00:31<00:00,  2.10it/s]\n",
      "  0%|          | 0/77 [00:00<?, ?it/s]"
     ]
    },
    {
     "name": "stdout",
     "output_type": "stream",
     "text": [
      "Processing label: frog\n"
     ]
    },
    {
     "name": "stderr",
     "output_type": "stream",
     "text": [
      "100%|██████████| 77/77 [00:41<00:00,  1.84it/s]\n",
      "  0%|          | 0/54 [00:00<?, ?it/s]"
     ]
    },
    {
     "name": "stdout",
     "output_type": "stream",
     "text": [
      "Processing label: galaxy\n"
     ]
    },
    {
     "name": "stderr",
     "output_type": "stream",
     "text": [
      "100%|██████████| 54/54 [00:28<00:00,  1.92it/s]\n",
      "  0%|          | 0/56 [00:00<?, ?it/s]"
     ]
    },
    {
     "name": "stdout",
     "output_type": "stream",
     "text": [
      "Processing label: giraffe\n"
     ]
    },
    {
     "name": "stderr",
     "output_type": "stream",
     "text": [
      "100%|██████████| 56/56 [00:27<00:00,  2.04it/s]\n",
      "  0%|          | 0/75 [00:00<?, ?it/s]"
     ]
    },
    {
     "name": "stdout",
     "output_type": "stream",
     "text": [
      "Processing label: goat\n"
     ]
    },
    {
     "name": "stderr",
     "output_type": "stream",
     "text": [
      "100%|██████████| 75/75 [00:36<00:00,  2.03it/s]\n",
      "  0%|          | 0/62 [00:00<?, ?it/s]"
     ]
    },
    {
     "name": "stdout",
     "output_type": "stream",
     "text": [
      "Processing label: goldfish\n"
     ]
    },
    {
     "name": "stderr",
     "output_type": "stream",
     "text": [
      "100%|██████████| 62/62 [00:31<00:00,  1.95it/s]\n",
      "  0%|          | 0/73 [00:00<?, ?it/s]"
     ]
    },
    {
     "name": "stdout",
     "output_type": "stream",
     "text": [
      "Processing label: goose\n"
     ]
    },
    {
     "name": "stderr",
     "output_type": "stream",
     "text": [
      "100%|██████████| 73/73 [00:41<00:00,  1.74it/s]\n",
      "  0%|          | 0/141 [00:00<?, ?it/s]"
     ]
    },
    {
     "name": "stdout",
     "output_type": "stream",
     "text": [
      "Processing label: gorilla\n"
     ]
    },
    {
     "name": "stderr",
     "output_type": "stream",
     "text": [
      "100%|██████████| 141/141 [01:07<00:00,  2.10it/s]\n",
      "  0%|          | 0/59 [00:00<?, ?it/s]"
     ]
    },
    {
     "name": "stdout",
     "output_type": "stream",
     "text": [
      "Processing label: helicopter\n"
     ]
    },
    {
     "name": "stderr",
     "output_type": "stream",
     "text": [
      "100%|██████████| 59/59 [00:27<00:00,  2.15it/s]\n",
      "  0%|          | 0/180 [00:00<?, ?it/s]"
     ]
    },
    {
     "name": "stdout",
     "output_type": "stream",
     "text": [
      "Processing label: horse\n"
     ]
    },
    {
     "name": "stderr",
     "output_type": "stream",
     "text": [
      "100%|██████████| 180/180 [01:34<00:00,  1.90it/s]\n",
      "  0%|          | 0/59 [00:00<?, ?it/s]"
     ]
    },
    {
     "name": "stdout",
     "output_type": "stream",
     "text": [
      "Processing label: hot-air-balloon\n"
     ]
    },
    {
     "name": "stderr",
     "output_type": "stream",
     "text": [
      "100%|██████████| 59/59 [00:33<00:00,  1.76it/s]\n",
      "  0%|          | 0/77 [00:00<?, ?it/s]"
     ]
    },
    {
     "name": "stdout",
     "output_type": "stream",
     "text": [
      "Processing label: hummingbird\n"
     ]
    },
    {
     "name": "stderr",
     "output_type": "stream",
     "text": [
      "100%|██████████| 77/77 [00:37<00:00,  2.04it/s]\n",
      "  0%|          | 0/71 [00:00<?, ?it/s]"
     ]
    },
    {
     "name": "stdout",
     "output_type": "stream",
     "text": [
      "Processing label: iguana\n"
     ]
    },
    {
     "name": "stderr",
     "output_type": "stream",
     "text": [
      "100%|██████████| 71/71 [00:33<00:00,  2.09it/s]\n",
      "  0%|          | 0/55 [00:00<?, ?it/s]"
     ]
    },
    {
     "name": "stdout",
     "output_type": "stream",
     "text": [
      "Processing label: kangaroo\n"
     ]
    },
    {
     "name": "stderr",
     "output_type": "stream",
     "text": [
      "100%|██████████| 55/55 [00:25<00:00,  2.16it/s]\n",
      "  0%|          | 0/61 [00:00<?, ?it/s]"
     ]
    },
    {
     "name": "stdout",
     "output_type": "stream",
     "text": [
      "Processing label: killer-whale\n"
     ]
    },
    {
     "name": "stderr",
     "output_type": "stream",
     "text": [
      "100%|██████████| 61/61 [00:29<00:00,  2.10it/s]\n",
      "  0%|          | 0/127 [00:00<?, ?it/s]"
     ]
    },
    {
     "name": "stdout",
     "output_type": "stream",
     "text": [
      "Processing label: leopards\n"
     ]
    },
    {
     "name": "stderr",
     "output_type": "stream",
     "text": [
      "100%|██████████| 127/127 [00:58<00:00,  2.19it/s]\n",
      "  0%|          | 0/79 [00:00<?, ?it/s]"
     ]
    },
    {
     "name": "stdout",
     "output_type": "stream",
     "text": [
      "Processing label: llama\n"
     ]
    },
    {
     "name": "stderr",
     "output_type": "stream",
     "text": [
      "100%|██████████| 79/79 [00:36<00:00,  2.14it/s]\n",
      "  0%|          | 0/104 [00:00<?, ?it/s]"
     ]
    },
    {
     "name": "stdout",
     "output_type": "stream",
     "text": [
      "Processing label: mars\n"
     ]
    },
    {
     "name": "stderr",
     "output_type": "stream",
     "text": [
      "100%|██████████| 104/104 [00:48<00:00,  2.13it/s]\n",
      "  0%|          | 0/116 [00:00<?, ?it/s]"
     ]
    },
    {
     "name": "stdout",
     "output_type": "stream",
     "text": [
      "Processing label: mussels\n"
     ]
    },
    {
     "name": "stderr",
     "output_type": "stream",
     "text": [
      "100%|██████████| 116/116 [00:55<00:00,  2.09it/s]\n",
      "  0%|          | 0/74 [00:00<?, ?it/s]"
     ]
    },
    {
     "name": "stdout",
     "output_type": "stream",
     "text": [
      "Processing label: octopus\n"
     ]
    },
    {
     "name": "stderr",
     "output_type": "stream",
     "text": [
      "100%|██████████| 74/74 [00:36<00:00,  2.01it/s]\n",
      "  0%|          | 0/73 [00:00<?, ?it/s]"
     ]
    },
    {
     "name": "stdout",
     "output_type": "stream",
     "text": [
      "Processing label: ostrich\n"
     ]
    },
    {
     "name": "stderr",
     "output_type": "stream",
     "text": [
      "100%|██████████| 73/73 [00:38<00:00,  1.90it/s]\n",
      "  0%|          | 0/80 [00:00<?, ?it/s]"
     ]
    },
    {
     "name": "stdout",
     "output_type": "stream",
     "text": [
      "Processing label: owl\n"
     ]
    },
    {
     "name": "stderr",
     "output_type": "stream",
     "text": [
      "100%|██████████| 80/80 [00:40<00:00,  1.97it/s]\n",
      "  0%|          | 0/99 [00:00<?, ?it/s]"
     ]
    },
    {
     "name": "stdout",
     "output_type": "stream",
     "text": [
      "Processing label: penguin\n"
     ]
    },
    {
     "name": "stderr",
     "output_type": "stream",
     "text": [
      "100%|██████████| 99/99 [00:51<00:00,  1.91it/s]\n",
      "  0%|          | 0/67 [00:00<?, ?it/s]"
     ]
    },
    {
     "name": "stdout",
     "output_type": "stream",
     "text": [
      "Processing label: porcupine\n"
     ]
    },
    {
     "name": "stderr",
     "output_type": "stream",
     "text": [
      "100%|██████████| 67/67 [00:33<00:00,  2.00it/s]\n",
      "  0%|          | 0/93 [00:00<?, ?it/s]"
     ]
    },
    {
     "name": "stdout",
     "output_type": "stream",
     "text": [
      "Processing label: raccoon\n"
     ]
    },
    {
     "name": "stderr",
     "output_type": "stream",
     "text": [
      "100%|██████████| 93/93 [00:53<00:00,  1.73it/s]\n",
      "  0%|          | 0/64 [00:00<?, ?it/s]"
     ]
    },
    {
     "name": "stdout",
     "output_type": "stream",
     "text": [
      "Processing label: saturn\n"
     ]
    },
    {
     "name": "stderr",
     "output_type": "stream",
     "text": [
      "100%|██████████| 64/64 [00:37<00:00,  1.73it/s]\n",
      "  0%|          | 0/54 [00:00<?, ?it/s]"
     ]
    },
    {
     "name": "stdout",
     "output_type": "stream",
     "text": [
      "Processing label: skunk\n"
     ]
    },
    {
     "name": "stderr",
     "output_type": "stream",
     "text": [
      "100%|██████████| 54/54 [00:31<00:00,  1.72it/s]\n",
      "  0%|          | 0/79 [00:00<?, ?it/s]"
     ]
    },
    {
     "name": "stdout",
     "output_type": "stream",
     "text": [
      "Processing label: snail\n"
     ]
    },
    {
     "name": "stderr",
     "output_type": "stream",
     "text": [
      "100%|██████████| 79/79 [00:39<00:00,  1.98it/s]\n",
      "  0%|          | 0/75 [00:00<?, ?it/s]"
     ]
    },
    {
     "name": "stdout",
     "output_type": "stream",
     "text": [
      "Processing label: snake\n"
     ]
    },
    {
     "name": "stderr",
     "output_type": "stream",
     "text": [
      "100%|██████████| 75/75 [00:36<00:00,  2.03it/s]\n",
      "  0%|          | 0/67 [00:00<?, ?it/s]"
     ]
    },
    {
     "name": "stdout",
     "output_type": "stream",
     "text": [
      "Processing label: speed-boat\n"
     ]
    },
    {
     "name": "stderr",
     "output_type": "stream",
     "text": [
      "100%|██████████| 67/67 [00:32<00:00,  2.04it/s]\n",
      "  0%|          | 0/54 [00:00<?, ?it/s]"
     ]
    },
    {
     "name": "stdout",
     "output_type": "stream",
     "text": [
      "Processing label: starfish\n"
     ]
    },
    {
     "name": "stderr",
     "output_type": "stream",
     "text": [
      "100%|██████████| 54/54 [00:25<00:00,  2.13it/s]\n",
      "  0%|          | 0/77 [00:00<?, ?it/s]"
     ]
    },
    {
     "name": "stdout",
     "output_type": "stream",
     "text": [
      "Processing label: swan\n"
     ]
    },
    {
     "name": "stderr",
     "output_type": "stream",
     "text": [
      "100%|██████████| 77/77 [00:40<00:00,  1.90it/s]\n",
      "  0%|          | 0/67 [00:00<?, ?it/s]"
     ]
    },
    {
     "name": "stdout",
     "output_type": "stream",
     "text": [
      "Processing label: teddy-bear\n"
     ]
    },
    {
     "name": "stderr",
     "output_type": "stream",
     "text": [
      "100%|██████████| 67/67 [00:40<00:00,  1.67it/s]\n",
      "  0%|          | 0/72 [00:00<?, ?it/s]"
     ]
    },
    {
     "name": "stdout",
     "output_type": "stream",
     "text": [
      "Processing label: toad\n"
     ]
    },
    {
     "name": "stderr",
     "output_type": "stream",
     "text": [
      "100%|██████████| 72/72 [00:42<00:00,  1.70it/s]\n",
      "  0%|          | 0/63 [00:00<?, ?it/s]"
     ]
    },
    {
     "name": "stdout",
     "output_type": "stream",
     "text": [
      "Processing label: triceratops\n"
     ]
    },
    {
     "name": "stderr",
     "output_type": "stream",
     "text": [
      "100%|██████████| 63/63 [00:35<00:00,  1.76it/s]\n",
      "  0%|          | 0/65 [00:00<?, ?it/s]"
     ]
    },
    {
     "name": "stdout",
     "output_type": "stream",
     "text": [
      "Processing label: unicorn\n"
     ]
    },
    {
     "name": "stderr",
     "output_type": "stream",
     "text": [
      "100%|██████████| 65/65 [00:33<00:00,  1.96it/s]\n",
      "  0%|          | 0/64 [00:00<?, ?it/s]"
     ]
    },
    {
     "name": "stdout",
     "output_type": "stream",
     "text": [
      "Processing label: zebra\n"
     ]
    },
    {
     "name": "stderr",
     "output_type": "stream",
     "text": [
      "100%|██████████| 64/64 [00:33<00:00,  1.93it/s]\n"
     ]
    }
   ],
   "source": [
    "# create containers to hold the generated data\n",
    "feature_map = {}\n",
    "daisy_desc_list = []\n",
    "\n",
    "# iterate through labels and then through files for each label\n",
    "for label in labels:\n",
    "    print('Processing label: {}'.format(label))\n",
    "    for fl in tqdm([fl for fl in os.listdir(base_path + label) if '.DS_Store' not in fl]): # print status while iterating\n",
    "        \n",
    "        # read image and convert to greyscale\n",
    "        g = read_grey_rescale(base_path + label + '/' + fl)\n",
    "        f = trim_pad_height(g)\n",
    "        \n",
    "        # comptue daisy features\n",
    "        descs = feature.daisy(f, step = 10, radius = 25, histograms=6, orientations=6)\n",
    "        descs_num = descs.shape[0] * descs.shape[1]\n",
    "        daisy_descriptors = descs.reshape(descs_num,descs.shape[2])\n",
    "        \n",
    "        # store features\n",
    "        feature_map[fl] = daisy_descriptors\n",
    "        daisy_desc_list += list(daisy_descriptors)"
   ]
  },
  {
   "cell_type": "code",
   "execution_count": 94,
   "metadata": {},
   "outputs": [
    {
     "data": {
      "text/plain": [
       "5941600"
      ]
     },
     "execution_count": 94,
     "metadata": {},
     "output_type": "execute_result"
    }
   ],
   "source": [
    "#feature_map\n",
    "len(daisy_desc_list)"
   ]
  },
  {
   "cell_type": "code",
   "execution_count": 95,
   "metadata": {},
   "outputs": [
    {
     "data": {
      "text/plain": [
       "47.867512"
      ]
     },
     "execution_count": 95,
     "metadata": {},
     "output_type": "execute_result"
    }
   ],
   "source": [
    "sys.getsizeof(daisy_desc_list) / 1e6"
   ]
  },
  {
   "cell_type": "code",
   "execution_count": null,
   "metadata": {},
   "outputs": [],
   "source": []
  },
  {
   "cell_type": "code",
   "execution_count": 99,
   "metadata": {},
   "outputs": [
    {
     "data": {
      "text/plain": [
       "MiniBatchKMeans(batch_size=1500, compute_labels=True, init='k-means++',\n",
       "        init_size=None, max_iter=100, max_no_improvement=10,\n",
       "        n_clusters=150, n_init=3, random_state=None,\n",
       "        reassignment_ratio=0.01, tol=0.0, verbose=0)"
      ]
     },
     "execution_count": 99,
     "metadata": {},
     "output_type": "execute_result"
    }
   ],
   "source": [
    "# do clustering with nc clusters\n",
    "nc = 150\n",
    "km = MiniBatchKMeans(n_clusters = nc, batch_size = nc * 10)\n",
    "km.fit(daisy_desc_list)"
   ]
  },
  {
   "cell_type": "code",
   "execution_count": null,
   "metadata": {},
   "outputs": [],
   "source": []
  },
  {
   "cell_type": "code",
   "execution_count": 104,
   "metadata": {},
   "outputs": [],
   "source": [
    "def extract_daisy_feature_from_image(fname, cluster_model, path = None):\n",
    "    \n",
    "    # use the daisy features that have already been computed if possible\n",
    "    # treats feature_map as a global variable\n",
    "    if fname in feature_map:\n",
    "        daisy_features = feature_map[fname]\n",
    "   \n",
    "    # otherwise, compute them now\n",
    "    else:        \n",
    "        g = read_grey_rescale(path + fname)\n",
    "        f = trim_pad_height(g)\n",
    "        \n",
    "        # compute daisy features\n",
    "        descs = feature.daisy(f, step = 10, radius = 25, histograms=6, orientations=6)\n",
    "        descs_num = descs.shape[0] * descs.shape[1]\n",
    "        daisy_features = descs.reshape(descs_num,descs.shape[2])\n",
    "        \n",
    "    # find which clusters each daisy feature belongs to\n",
    "    img_clusters = cluster_model.predict(daisy_features) \n",
    "    cluster_freq_counts = pd.DataFrame(img_clusters,columns=['cnt'])['cnt'].value_counts()\n",
    "    \n",
    "    # instantiate and then populate an array to hold features\n",
    "    feats = np.zeros(cluster_model.n_clusters)\n",
    "    for key in cluster_freq_counts.keys():\n",
    "        feats[key] = cluster_freq_counts[key]\n",
    "\n",
    "    # return feature array (normalization will happening later)\n",
    "    return feats"
   ]
  },
  {
   "cell_type": "code",
   "execution_count": 107,
   "metadata": {},
   "outputs": [
    {
     "name": "stdout",
     "output_type": "stream",
     "text": [
      "6.4 ms ± 568 µs per loop (mean ± std. dev. of 7 runs, 100 loops each)\n"
     ]
    }
   ],
   "source": [
    "%%timeit\n",
    "x = extract_daisy_feature_from_image('bat_0060.jpg', km)"
   ]
  },
  {
   "cell_type": "code",
   "execution_count": null,
   "metadata": {},
   "outputs": [],
   "source": []
  },
  {
   "cell_type": "markdown",
   "metadata": {},
   "source": [
    "## Run Feature Extraction"
   ]
  },
  {
   "cell_type": "code",
   "execution_count": null,
   "metadata": {},
   "outputs": [],
   "source": []
  },
  {
   "cell_type": "code",
   "execution_count": 108,
   "metadata": {},
   "outputs": [
    {
     "name": "stderr",
     "output_type": "stream",
     "text": [
      "  0%|          | 2/533 [00:00<00:31, 16.60it/s]"
     ]
    },
    {
     "name": "stdout",
     "output_type": "stream",
     "text": [
      "Processing label: airplanes\n"
     ]
    },
    {
     "name": "stderr",
     "output_type": "stream",
     "text": [
      "100%|██████████| 533/533 [00:20<00:00, 26.65it/s]\n",
      "  1%|▏         | 1/71 [00:00<00:07,  9.13it/s]"
     ]
    },
    {
     "name": "stdout",
     "output_type": "stream",
     "text": [
      "Processing label: bat\n"
     ]
    },
    {
     "name": "stderr",
     "output_type": "stream",
     "text": [
      "100%|██████████| 71/71 [00:04<00:00, 16.37it/s]\n",
      "  0%|          | 0/68 [00:00<?, ?it/s]"
     ]
    },
    {
     "name": "stdout",
     "output_type": "stream",
     "text": [
      "Processing label: bear\n"
     ]
    },
    {
     "name": "stderr",
     "output_type": "stream",
     "text": [
      "100%|██████████| 68/68 [00:08<00:00,  7.89it/s]\n",
      "  5%|▌         | 3/57 [00:00<00:02, 23.28it/s]"
     ]
    },
    {
     "name": "stdout",
     "output_type": "stream",
     "text": [
      "Processing label: blimp\n"
     ]
    },
    {
     "name": "stderr",
     "output_type": "stream",
     "text": [
      "100%|██████████| 57/57 [00:03<00:00, 16.48it/s]\n",
      "  1%|▏         | 1/73 [00:00<00:09,  7.73it/s]"
     ]
    },
    {
     "name": "stdout",
     "output_type": "stream",
     "text": [
      "Processing label: camel\n"
     ]
    },
    {
     "name": "stderr",
     "output_type": "stream",
     "text": [
      "100%|██████████| 73/73 [00:08<00:00,  8.17it/s]\n",
      "  2%|▏         | 2/81 [00:00<00:04, 18.01it/s]"
     ]
    },
    {
     "name": "stdout",
     "output_type": "stream",
     "text": [
      "Processing label: comet\n"
     ]
    },
    {
     "name": "stderr",
     "output_type": "stream",
     "text": [
      "100%|██████████| 81/81 [00:04<00:00, 18.25it/s]\n",
      "  4%|▍         | 3/69 [00:00<00:02, 25.32it/s]"
     ]
    },
    {
     "name": "stdout",
     "output_type": "stream",
     "text": [
      "Processing label: conch\n"
     ]
    },
    {
     "name": "stderr",
     "output_type": "stream",
     "text": [
      "100%|██████████| 69/69 [00:03<00:00, 17.90it/s]\n",
      "  3%|▎         | 2/71 [00:00<00:03, 19.01it/s]"
     ]
    },
    {
     "name": "stdout",
     "output_type": "stream",
     "text": [
      "Processing label: cormorant\n"
     ]
    },
    {
     "name": "stderr",
     "output_type": "stream",
     "text": [
      "100%|██████████| 71/71 [00:08<00:00,  8.86it/s]\n",
      "  4%|▎         | 2/57 [00:00<00:04, 12.52it/s]"
     ]
    },
    {
     "name": "stdout",
     "output_type": "stream",
     "text": [
      "Processing label: crab\n"
     ]
    },
    {
     "name": "stderr",
     "output_type": "stream",
     "text": [
      "100%|██████████| 57/57 [00:02<00:00, 20.67it/s]\n",
      "  0%|          | 0/68 [00:00<?, ?it/s]"
     ]
    },
    {
     "name": "stdout",
     "output_type": "stream",
     "text": [
      "Processing label: dog\n"
     ]
    },
    {
     "name": "stderr",
     "output_type": "stream",
     "text": [
      "100%|██████████| 68/68 [00:03<00:00, 17.16it/s]\n",
      "  3%|▎         | 2/71 [00:00<00:03, 17.55it/s]"
     ]
    },
    {
     "name": "stdout",
     "output_type": "stream",
     "text": [
      "Processing label: dolphin\n"
     ]
    },
    {
     "name": "stderr",
     "output_type": "stream",
     "text": [
      "100%|██████████| 71/71 [00:04<00:00, 17.69it/s]\n",
      "  3%|▎         | 2/58 [00:00<00:03, 15.62it/s]"
     ]
    },
    {
     "name": "stdout",
     "output_type": "stream",
     "text": [
      "Processing label: duck\n"
     ]
    },
    {
     "name": "stderr",
     "output_type": "stream",
     "text": [
      "100%|██████████| 58/58 [00:05<00:00, 10.53it/s]\n",
      "  3%|▎         | 3/87 [00:00<00:03, 26.59it/s]"
     ]
    },
    {
     "name": "stdout",
     "output_type": "stream",
     "text": [
      "Processing label: elephant\n"
     ]
    },
    {
     "name": "stderr",
     "output_type": "stream",
     "text": [
      "100%|██████████| 87/87 [00:05<00:00, 14.62it/s]\n",
      "  4%|▍         | 3/67 [00:00<00:02, 27.23it/s]"
     ]
    },
    {
     "name": "stdout",
     "output_type": "stream",
     "text": [
      "Processing label: elk\n"
     ]
    },
    {
     "name": "stderr",
     "output_type": "stream",
     "text": [
      "100%|██████████| 67/67 [00:04<00:00, 13.98it/s]\n",
      "  0%|          | 0/77 [00:00<?, ?it/s]"
     ]
    },
    {
     "name": "stdout",
     "output_type": "stream",
     "text": [
      "Processing label: frog\n"
     ]
    },
    {
     "name": "stderr",
     "output_type": "stream",
     "text": [
      "100%|██████████| 77/77 [00:08<00:00,  8.90it/s]\n",
      "  0%|          | 0/54 [00:00<?, ?it/s]"
     ]
    },
    {
     "name": "stdout",
     "output_type": "stream",
     "text": [
      "Processing label: galaxy\n"
     ]
    },
    {
     "name": "stderr",
     "output_type": "stream",
     "text": [
      "100%|██████████| 54/54 [00:06<00:00,  8.32it/s]\n",
      "  5%|▌         | 3/56 [00:00<00:03, 16.77it/s]"
     ]
    },
    {
     "name": "stdout",
     "output_type": "stream",
     "text": [
      "Processing label: giraffe\n"
     ]
    },
    {
     "name": "stderr",
     "output_type": "stream",
     "text": [
      "100%|██████████| 56/56 [00:03<00:00, 17.02it/s]\n",
      "  1%|▏         | 1/75 [00:00<00:10,  7.06it/s]"
     ]
    },
    {
     "name": "stdout",
     "output_type": "stream",
     "text": [
      "Processing label: goat\n"
     ]
    },
    {
     "name": "stderr",
     "output_type": "stream",
     "text": [
      "100%|██████████| 75/75 [00:06<00:00, 12.11it/s]\n",
      "  5%|▍         | 3/62 [00:00<00:02, 26.90it/s]"
     ]
    },
    {
     "name": "stdout",
     "output_type": "stream",
     "text": [
      "Processing label: goldfish\n"
     ]
    },
    {
     "name": "stderr",
     "output_type": "stream",
     "text": [
      "100%|██████████| 62/62 [00:06<00:00, 10.14it/s]\n",
      "  0%|          | 0/73 [00:00<?, ?it/s]"
     ]
    },
    {
     "name": "stdout",
     "output_type": "stream",
     "text": [
      "Processing label: goose\n"
     ]
    },
    {
     "name": "stderr",
     "output_type": "stream",
     "text": [
      "100%|██████████| 73/73 [00:07<00:00, 10.09it/s]\n",
      "  2%|▏         | 3/141 [00:00<00:08, 16.85it/s]"
     ]
    },
    {
     "name": "stdout",
     "output_type": "stream",
     "text": [
      "Processing label: gorilla\n"
     ]
    },
    {
     "name": "stderr",
     "output_type": "stream",
     "text": [
      "100%|██████████| 141/141 [00:07<00:00, 17.63it/s]\n",
      "  5%|▌         | 3/59 [00:00<00:02, 26.93it/s]"
     ]
    },
    {
     "name": "stdout",
     "output_type": "stream",
     "text": [
      "Processing label: helicopter\n"
     ]
    },
    {
     "name": "stderr",
     "output_type": "stream",
     "text": [
      "100%|██████████| 59/59 [00:01<00:00, 29.54it/s]\n",
      "  1%|          | 2/180 [00:00<00:09, 19.51it/s]"
     ]
    },
    {
     "name": "stdout",
     "output_type": "stream",
     "text": [
      "Processing label: horse\n"
     ]
    },
    {
     "name": "stderr",
     "output_type": "stream",
     "text": [
      "100%|██████████| 180/180 [00:10<00:00, 16.91it/s]\n",
      "  0%|          | 0/59 [00:00<?, ?it/s]"
     ]
    },
    {
     "name": "stdout",
     "output_type": "stream",
     "text": [
      "Processing label: hot-air-balloon\n"
     ]
    },
    {
     "name": "stderr",
     "output_type": "stream",
     "text": [
      "100%|██████████| 59/59 [00:05<00:00, 11.19it/s]\n",
      "  1%|▏         | 1/77 [00:00<00:10,  7.53it/s]"
     ]
    },
    {
     "name": "stdout",
     "output_type": "stream",
     "text": [
      "Processing label: hummingbird\n"
     ]
    },
    {
     "name": "stderr",
     "output_type": "stream",
     "text": [
      "100%|██████████| 77/77 [00:08<00:00,  9.20it/s]\n",
      "  3%|▎         | 2/71 [00:00<00:04, 16.70it/s]"
     ]
    },
    {
     "name": "stdout",
     "output_type": "stream",
     "text": [
      "Processing label: iguana\n"
     ]
    },
    {
     "name": "stderr",
     "output_type": "stream",
     "text": [
      "100%|██████████| 71/71 [00:05<00:00, 13.20it/s]\n",
      "  5%|▌         | 3/55 [00:00<00:02, 22.02it/s]"
     ]
    },
    {
     "name": "stdout",
     "output_type": "stream",
     "text": [
      "Processing label: kangaroo\n"
     ]
    },
    {
     "name": "stderr",
     "output_type": "stream",
     "text": [
      "100%|██████████| 55/55 [00:02<00:00, 27.30it/s]\n",
      "  3%|▎         | 2/61 [00:00<00:05, 10.60it/s]"
     ]
    },
    {
     "name": "stdout",
     "output_type": "stream",
     "text": [
      "Processing label: killer-whale\n"
     ]
    },
    {
     "name": "stderr",
     "output_type": "stream",
     "text": [
      "100%|██████████| 61/61 [00:05<00:00, 10.40it/s]\n",
      "  3%|▎         | 4/127 [00:00<00:03, 36.10it/s]"
     ]
    },
    {
     "name": "stdout",
     "output_type": "stream",
     "text": [
      "Processing label: leopards\n"
     ]
    },
    {
     "name": "stderr",
     "output_type": "stream",
     "text": [
      "100%|██████████| 127/127 [00:04<00:00, 28.54it/s]\n",
      "  3%|▎         | 2/79 [00:00<00:06, 11.94it/s]"
     ]
    },
    {
     "name": "stdout",
     "output_type": "stream",
     "text": [
      "Processing label: llama\n"
     ]
    },
    {
     "name": "stderr",
     "output_type": "stream",
     "text": [
      "100%|██████████| 79/79 [00:04<00:00, 17.63it/s]\n",
      "  3%|▎         | 3/104 [00:00<00:04, 23.02it/s]"
     ]
    },
    {
     "name": "stdout",
     "output_type": "stream",
     "text": [
      "Processing label: mars\n"
     ]
    },
    {
     "name": "stderr",
     "output_type": "stream",
     "text": [
      "100%|██████████| 104/104 [00:06<00:00, 15.52it/s]\n",
      "  3%|▎         | 3/116 [00:00<00:05, 21.64it/s]"
     ]
    },
    {
     "name": "stdout",
     "output_type": "stream",
     "text": [
      "Processing label: mussels\n"
     ]
    },
    {
     "name": "stderr",
     "output_type": "stream",
     "text": [
      "100%|██████████| 116/116 [00:06<00:00, 17.86it/s]\n",
      "  1%|▏         | 1/74 [00:00<00:07,  9.28it/s]"
     ]
    },
    {
     "name": "stdout",
     "output_type": "stream",
     "text": [
      "Processing label: octopus\n"
     ]
    },
    {
     "name": "stderr",
     "output_type": "stream",
     "text": [
      "100%|██████████| 74/74 [00:08<00:00,  9.02it/s]\n",
      "  3%|▎         | 2/73 [00:00<00:03, 17.99it/s]"
     ]
    },
    {
     "name": "stdout",
     "output_type": "stream",
     "text": [
      "Processing label: ostrich\n"
     ]
    },
    {
     "name": "stderr",
     "output_type": "stream",
     "text": [
      "100%|██████████| 73/73 [00:05<00:00, 13.89it/s]\n",
      "  4%|▍         | 3/80 [00:00<00:03, 25.10it/s]"
     ]
    },
    {
     "name": "stdout",
     "output_type": "stream",
     "text": [
      "Processing label: owl\n"
     ]
    },
    {
     "name": "stderr",
     "output_type": "stream",
     "text": [
      "100%|██████████| 80/80 [00:07<00:00, 10.95it/s]\n",
      "  2%|▏         | 2/99 [00:00<00:08, 11.47it/s]"
     ]
    },
    {
     "name": "stdout",
     "output_type": "stream",
     "text": [
      "Processing label: penguin\n"
     ]
    },
    {
     "name": "stderr",
     "output_type": "stream",
     "text": [
      "100%|██████████| 99/99 [00:19<00:00,  5.18it/s]\n",
      "  0%|          | 0/67 [00:00<?, ?it/s]"
     ]
    },
    {
     "name": "stdout",
     "output_type": "stream",
     "text": [
      "Processing label: porcupine\n"
     ]
    },
    {
     "name": "stderr",
     "output_type": "stream",
     "text": [
      "100%|██████████| 67/67 [00:10<00:00,  6.26it/s]\n",
      "  1%|          | 1/93 [00:00<00:10,  8.66it/s]"
     ]
    },
    {
     "name": "stdout",
     "output_type": "stream",
     "text": [
      "Processing label: raccoon\n"
     ]
    },
    {
     "name": "stderr",
     "output_type": "stream",
     "text": [
      "100%|██████████| 93/93 [00:07<00:00, 12.68it/s]\n",
      "  2%|▏         | 1/64 [00:00<00:08,  7.18it/s]"
     ]
    },
    {
     "name": "stdout",
     "output_type": "stream",
     "text": [
      "Processing label: saturn\n"
     ]
    },
    {
     "name": "stderr",
     "output_type": "stream",
     "text": [
      "100%|██████████| 64/64 [00:06<00:00,  9.39it/s]\n",
      "  6%|▌         | 3/54 [00:00<00:02, 21.15it/s]"
     ]
    },
    {
     "name": "stdout",
     "output_type": "stream",
     "text": [
      "Processing label: skunk\n"
     ]
    },
    {
     "name": "stderr",
     "output_type": "stream",
     "text": [
      "100%|██████████| 54/54 [00:05<00:00,  9.53it/s]\n",
      "  1%|▏         | 1/79 [00:00<00:07,  9.75it/s]"
     ]
    },
    {
     "name": "stdout",
     "output_type": "stream",
     "text": [
      "Processing label: snail\n"
     ]
    },
    {
     "name": "stderr",
     "output_type": "stream",
     "text": [
      "100%|██████████| 79/79 [00:09<00:00,  7.98it/s]\n",
      "  1%|▏         | 1/75 [00:00<00:08,  8.66it/s]"
     ]
    },
    {
     "name": "stdout",
     "output_type": "stream",
     "text": [
      "Processing label: snake\n"
     ]
    },
    {
     "name": "stderr",
     "output_type": "stream",
     "text": [
      "100%|██████████| 75/75 [00:09<00:00,  7.89it/s]\n",
      "  3%|▎         | 2/67 [00:00<00:03, 19.02it/s]"
     ]
    },
    {
     "name": "stdout",
     "output_type": "stream",
     "text": [
      "Processing label: speed-boat\n"
     ]
    },
    {
     "name": "stderr",
     "output_type": "stream",
     "text": [
      "100%|██████████| 67/67 [00:05<00:00, 11.62it/s]\n",
      "  4%|▎         | 2/54 [00:00<00:02, 19.90it/s]"
     ]
    },
    {
     "name": "stdout",
     "output_type": "stream",
     "text": [
      "Processing label: starfish\n"
     ]
    },
    {
     "name": "stderr",
     "output_type": "stream",
     "text": [
      "100%|██████████| 54/54 [00:02<00:00, 21.60it/s]\n",
      "  1%|▏         | 1/77 [00:00<00:14,  5.28it/s]"
     ]
    },
    {
     "name": "stdout",
     "output_type": "stream",
     "text": [
      "Processing label: swan\n"
     ]
    },
    {
     "name": "stderr",
     "output_type": "stream",
     "text": [
      "100%|██████████| 77/77 [00:09<00:00,  7.92it/s]\n",
      "  3%|▎         | 2/67 [00:00<00:05, 12.26it/s]"
     ]
    },
    {
     "name": "stdout",
     "output_type": "stream",
     "text": [
      "Processing label: teddy-bear\n"
     ]
    },
    {
     "name": "stderr",
     "output_type": "stream",
     "text": [
      "100%|██████████| 67/67 [00:06<00:00, 10.45it/s]\n",
      "  3%|▎         | 2/72 [00:00<00:03, 18.26it/s]"
     ]
    },
    {
     "name": "stdout",
     "output_type": "stream",
     "text": [
      "Processing label: toad\n"
     ]
    },
    {
     "name": "stderr",
     "output_type": "stream",
     "text": [
      "100%|██████████| 72/72 [00:08<00:00,  8.54it/s]\n",
      "  3%|▎         | 2/63 [00:00<00:03, 17.38it/s]"
     ]
    },
    {
     "name": "stdout",
     "output_type": "stream",
     "text": [
      "Processing label: triceratops\n"
     ]
    },
    {
     "name": "stderr",
     "output_type": "stream",
     "text": [
      "100%|██████████| 63/63 [00:06<00:00, 10.32it/s]\n",
      "  2%|▏         | 1/65 [00:00<00:09,  6.94it/s]"
     ]
    },
    {
     "name": "stdout",
     "output_type": "stream",
     "text": [
      "Processing label: unicorn\n"
     ]
    },
    {
     "name": "stderr",
     "output_type": "stream",
     "text": [
      "100%|██████████| 65/65 [00:05<00:00, 11.91it/s]\n",
      "  2%|▏         | 1/64 [00:00<00:06,  9.76it/s]"
     ]
    },
    {
     "name": "stdout",
     "output_type": "stream",
     "text": [
      "Processing label: zebra\n"
     ]
    },
    {
     "name": "stderr",
     "output_type": "stream",
     "text": [
      "100%|██████████| 64/64 [00:08<00:00,  7.74it/s]\n"
     ]
    }
   ],
   "source": [
    "# process features\n",
    "X = []\n",
    "y = []\n",
    "for label in labels:\n",
    "    print('Processing label: {}'.format(label))\n",
    "    for fl in tqdm([fl for fl in os.listdir(base_path + label) if '.DS_Store' not in fl]):\n",
    "        \n",
    "        # X array will hold dumb features and daisy features\n",
    "        X.append(np.concatenate((dumb_feature_extract(base_path + label + '/' + fl), extract_daisy_feature_from_image(fl, km, path = base_path + label + '/'))))\n",
    "        y.append(label)\n",
    "        \n",
    "X = np.array(X)\n",
    "y = np.array(y)"
   ]
  },
  {
   "cell_type": "code",
   "execution_count": null,
   "metadata": {},
   "outputs": [],
   "source": []
  },
  {
   "cell_type": "code",
   "execution_count": 109,
   "metadata": {},
   "outputs": [
    {
     "data": {
      "text/plain": [
       "(4244, 162)"
      ]
     },
     "execution_count": 109,
     "metadata": {},
     "output_type": "execute_result"
    }
   ],
   "source": [
    "X.shape"
   ]
  },
  {
   "cell_type": "code",
   "execution_count": 110,
   "metadata": {},
   "outputs": [],
   "source": [
    "# save checkpoint of processed data and cluster model\n",
    "np.save('X.npy', X)\n",
    "np.save('y.npy', y)\n",
    "np.save('cluster_mod.npy', km)"
   ]
  },
  {
   "cell_type": "code",
   "execution_count": null,
   "metadata": {},
   "outputs": [],
   "source": []
  },
  {
   "cell_type": "markdown",
   "metadata": {},
   "source": [
    "## Perform Classification"
   ]
  },
  {
   "cell_type": "code",
   "execution_count": 114,
   "metadata": {},
   "outputs": [],
   "source": [
    "# prepare training and testing data\n",
    "X_tr_tmp, X_test_tmp, y_train, y_test = train_test_split(X, y, test_size = 0.2, stratify = y, random_state = 100)\n",
    "\n",
    "# fit and scale training data\n",
    "X_scaler = StandardScaler()\n",
    "X_train = X_scaler.fit_transform(X_tr_tmp)\n",
    "\n",
    "# use scaling from training data to transform testing data\n",
    "X_test = X_scaler.transform(X_test_tmp)"
   ]
  },
  {
   "cell_type": "code",
   "execution_count": 142,
   "metadata": {},
   "outputs": [
    {
     "data": {
      "text/plain": [
       "0.12603062426383982"
      ]
     },
     "execution_count": 142,
     "metadata": {},
     "output_type": "execute_result"
    }
   ],
   "source": [
    "# determine baseline\n",
    "d_clf = DummyClassifier(strategy='prior')\n",
    "d_clf.fit(X_train, y_train)\n",
    "d_clf.score(X_test, y_test)"
   ]
  },
  {
   "cell_type": "code",
   "execution_count": 143,
   "metadata": {},
   "outputs": [
    {
     "name": "stdout",
     "output_type": "stream",
     "text": [
      "Accuracy: 0.256\n"
     ]
    }
   ],
   "source": [
    "# do random forest classification with default params\n",
    "rf_clf = RandomForestClassifier(class_weight='balanced', n_jobs=-1, random_state=100)\n",
    "rf_clf.fit(X_train, y_train)\n",
    "print('Accuracy: {:.3f}'.format(rf_clf.score(X_test, y_test)))"
   ]
  },
  {
   "cell_type": "code",
   "execution_count": 144,
   "metadata": {},
   "outputs": [
    {
     "name": "stdout",
     "output_type": "stream",
     "text": [
      "Accuracy: 0.377\n"
     ]
    }
   ],
   "source": [
    "# do grid search over parameters with random forest classifier (note GridSearch provides access to best model by default when calling score/predict/etc)\n",
    "parameters = {'n_estimators': [50, 150, 300, 450], 'max_depth': [50, 100, 150], 'min_samples_split': [3, 5, 7]}\n",
    "cross_val = StratifiedKFold(n_splits=5, random_state = 100)\n",
    "gs = GridSearchCV(RandomForestClassifier(class_weight='balanced', n_jobs=-1, random_state=100), parameters, cv = cross_val, n_jobs=-1, scoring = 'f1_micro')\n",
    "gs.fit(X_train, y_train)\n",
    "print('Accuracy: {:.3f}'.format(accuracy_score(y_test, gs.predict(X_test))))"
   ]
  },
  {
   "cell_type": "code",
   "execution_count": 145,
   "metadata": {},
   "outputs": [
    {
     "data": {
      "text/plain": [
       "{'max_depth': 50, 'min_samples_split': 7, 'n_estimators': 450}"
      ]
     },
     "execution_count": 145,
     "metadata": {},
     "output_type": "execute_result"
    }
   ],
   "source": [
    "gs.best_params_"
   ]
  },
  {
   "cell_type": "code",
   "execution_count": null,
   "metadata": {},
   "outputs": [],
   "source": []
  },
  {
   "cell_type": "markdown",
   "metadata": {},
   "source": [
    "## Evaluate Classification"
   ]
  },
  {
   "cell_type": "code",
   "execution_count": 151,
   "metadata": {},
   "outputs": [],
   "source": [
    "def eval_class(clf, X_test, y_test):\n",
    "    \n",
    "    pred = clf.predict(X_test)\n",
    "    \n",
    "    print('Classification Metrics, between 0 and 1\\n')\n",
    "    \n",
    "    print('Accuracy Score: {:.3f}'.format(accuracy_score(y_test, pred)))\n",
    "    print('proportion of correct classifications - higher better\\n')\n",
    "    \n",
    "    print('Precision Score: {:.3f}'.format(precision_score(y_test, pred, average='weighted')))\n",
    "    print('tp / (tp + fp), how good at not having fp - higher better\\n')\n",
    "    \n",
    "    print('Recall Score: {:.3f}'.format(recall_score(y_test, pred, average='weighted')))\n",
    "    print('tp / (tp + fn), how good at finding positives - higher better\\n')\n",
    "    \n",
    "    print('Zero-One Loss: {:.3f}'.format(zero_one_loss(y_test, pred)))\n",
    "    print('fraction of misclassifications - smaller better')\n",
    "    \n",
    "    print('\\nFeature Importance Ranking (highest first): {}'.format(np.argsort(clf.feature_importances_)[::-1]))"
   ]
  },
  {
   "cell_type": "code",
   "execution_count": 152,
   "metadata": {},
   "outputs": [
    {
     "name": "stdout",
     "output_type": "stream",
     "text": [
      "Classification Metrics, between 0 and 1\n",
      "\n",
      "Accuracy Score: 0.256\n",
      "proportion of correct classifications - higher better\n",
      "\n",
      "Precision Score: 0.221\n",
      "tp / (tp + fp), how good at not having fp - higher better\n",
      "\n",
      "Recall Score: 0.256\n",
      "tp / (tp + fn), how good at finding positives - higher better\n",
      "\n",
      "Zero-One Loss: 0.744\n",
      "fraction of misclassifications - smaller better\n",
      "\n",
      "Feature Importance Ranking (highest first): [  7   6   8 144   9   4  10   0  94  57  41  56 160   1   2  12 104  67\n",
      "  91 153  50  46  47  90  44  11 105   5  66  30 147 118   3 137 101  98\n",
      "  88  23 140 149  95  27 159  83  92  54 155 136 156  25 112 134 151  73\n",
      " 116  96  69 103  63 123  84  77 143 133  65 132  58 128  16 141  26  36\n",
      " 154  37  15  79 157 125 113  52  68 115 129  34  93 114  89 130 109  33\n",
      "  72 117 152 121 142 108  80  61  81  39  76  14 126 107 146 139 127 120\n",
      "  60  99  20  22 148  62  21 131  82  31  40  75 110  74  49 111  59  55\n",
      "  24  86 138 122 150  78  43  45  53  71  64  70  38 119  18 158  35  28\n",
      "  32  87  17  97  85 106 135  29  48 102  13 124  51 161  19 145 100  42]\n"
     ]
    }
   ],
   "source": [
    "eval_class(rf_clf, X_test, y_test)"
   ]
  },
  {
   "cell_type": "code",
   "execution_count": 153,
   "metadata": {},
   "outputs": [
    {
     "name": "stdout",
     "output_type": "stream",
     "text": [
      "Classification Metrics, between 0 and 1\n",
      "\n",
      "Accuracy Score: 0.377\n",
      "proportion of correct classifications - higher better\n",
      "\n",
      "Precision Score: 0.358\n",
      "tp / (tp + fp), how good at not having fp - higher better\n",
      "\n",
      "Recall Score: 0.377\n",
      "tp / (tp + fn), how good at finding positives - higher better\n",
      "\n",
      "Zero-One Loss: 0.623\n",
      "fraction of misclassifications - smaller better\n",
      "\n",
      "Feature Importance Ranking (highest first): [  7   8  41   1   9   6   0  10   2 144   4  47   5  50  57  11   3 153\n",
      " 105 140  91  30  56  12 104  94 160  67  66 159  44 137  88  27 118 147\n",
      "  98 136 155 101  90  23  54  95  46  83  73  25 156  69 149  52  84 103\n",
      " 133 151  16  92 128 157  36 112 116  96 123 125  63  93  72 154 130 132\n",
      "  26 141 158  37  79  65  34  33 115  89 139 134  15  58 143  80  77 117\n",
      " 126 109  14 113 121 152 142 108 120 129 146 107  76 114  39  68  82  61\n",
      "  81  21  62 148  22  31  45 119  40  20  38 110  24 131 127  99  60 138\n",
      " 111  59  55 150  75  86  64  71  35  74 122  53  70  28  17  49  87  85\n",
      "  43  78 106  97  18  51 145 161  32  29 135  19 102 124  13  48  42 100]\n"
     ]
    }
   ],
   "source": [
    "eval_class(gs.best_estimator_, X_test, y_test)"
   ]
  },
  {
   "cell_type": "markdown",
   "metadata": {},
   "source": [
    "It is interesting to me that the \"dumb\" features tend to have more predictive power than the DAISY extracted features (as can be seen in the feature importances). This could have occurred for a number of reasons, including the fact that I had to run DAISY with fairly \"coarse\" parameters in order to manage the problem on my laptop. Also, it is possible that I chose too few or too many points to do clustering with. With more time (and computational resources) I would explore changing the cluster size as well as running DAISY in a more intensive fashion. For now though, I will content myself in beating the baseline by a factor of roughly 3 in accuracy..."
   ]
  },
  {
   "cell_type": "markdown",
   "metadata": {},
   "source": [
    "## Save Models for Future Use"
   ]
  },
  {
   "cell_type": "code",
   "execution_count": 157,
   "metadata": {},
   "outputs": [],
   "source": [
    "# the processed data are already saved in .npy files\n",
    "\n",
    "with open('model.pkl', 'wb') as f:\n",
    "    pkl.dump({'model': gs, 'X_scaler': X_scaler, 'cluster_mod': km}, f)"
   ]
  },
  {
   "cell_type": "code",
   "execution_count": null,
   "metadata": {},
   "outputs": [],
   "source": []
  },
  {
   "cell_type": "markdown",
   "metadata": {},
   "source": [
    "## Package Classifier for Future Use"
   ]
  },
  {
   "cell_type": "code",
   "execution_count": 172,
   "metadata": {},
   "outputs": [],
   "source": [
    "def run_final_classifier(path, img_type = '.jpg', model_file = 'model.pkl', output_fname = 'predicted_classes.txt', return_arrays = False):\n",
    "    \n",
    "    # read model and scaler from model file\n",
    "    with open(model_file, 'rb') as f:\n",
    "        m = pkl.load(f)\n",
    "    model = m['model']\n",
    "    X_scaler = m['X_scaler']\n",
    "    cluster_model = m['cluster_mod']\n",
    "    \n",
    "    # do basic validation of provide path\n",
    "    if '/' != path[-1]:\n",
    "        path += '/'\n",
    "    \n",
    "    # get list of image files to classify\n",
    "    im_files = np.array([fl for fl in os.listdir(path) if img_type in fl])\n",
    "    \n",
    "    # do feature extraction\n",
    "    print('Extracting Features from {} images.\\n'.format(len(im_files)))\n",
    "    X = []\n",
    "    for fl in tqdm(im_files):\n",
    "        X.append(np.concatenate((dumb_feature_extract(path + fl), extract_daisy_feature_from_image(fl, cluster_model, path = path))))\n",
    "        \n",
    "    # scale X data\n",
    "    X = X_scaler.transform(np.array(X))\n",
    "    \n",
    "    # do classification\n",
    "    predicted_classes = model.predict(X)\n",
    "    \n",
    "    print('\\nClasses predicted, writing output to: {}'.format(output_fname))\n",
    "    \n",
    "    # write output file\n",
    "    with open(output_fname, 'w') as f:\n",
    "        f.write('{:<20} {}\\n'.format('filename', 'predicted_class'))\n",
    "        f.write('-'*37 + '\\n')\n",
    "        for idx, fl in enumerate(im_files):\n",
    "            f.write('{:<20} {}\\n'.format(fl, predicted_classes[idx]))\n",
    "            \n",
    "    # optionally return arrays\n",
    "    if return_arrays is True:\n",
    "        return im_files, predicted_classes"
   ]
  },
  {
   "cell_type": "code",
   "execution_count": 174,
   "metadata": {},
   "outputs": [
    {
     "name": "stderr",
     "output_type": "stream",
     "text": [
      "  1%|          | 3/533 [00:00<00:19, 27.14it/s]"
     ]
    },
    {
     "name": "stdout",
     "output_type": "stream",
     "text": [
      "Extracting Features from 533 images.\n",
      "\n"
     ]
    },
    {
     "name": "stderr",
     "output_type": "stream",
     "text": [
      "100%|██████████| 533/533 [00:18<00:00, 29.51it/s]\n"
     ]
    },
    {
     "name": "stdout",
     "output_type": "stream",
     "text": [
      "\n",
      "Classes predicted, writing output to: predicted_classes.txt\n"
     ]
    }
   ],
   "source": [
    "# example of use\n",
    "run_final_classifier('50_categories/airplanes/')"
   ]
  },
  {
   "cell_type": "code",
   "execution_count": null,
   "metadata": {},
   "outputs": [],
   "source": []
  }
 ],
 "metadata": {
  "kernelspec": {
   "display_name": "Python 3",
   "language": "python",
   "name": "python3"
  },
  "language_info": {
   "codemirror_mode": {
    "name": "ipython",
    "version": 3
   },
   "file_extension": ".py",
   "mimetype": "text/x-python",
   "name": "python",
   "nbconvert_exporter": "python",
   "pygments_lexer": "ipython3",
   "version": "3.6.4"
  }
 },
 "nbformat": 4,
 "nbformat_minor": 2
}
